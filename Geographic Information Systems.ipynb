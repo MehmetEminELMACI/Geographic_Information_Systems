{
 "cells": [
  {
   "cell_type": "code",
   "execution_count": 1,
   "metadata": {},
   "outputs": [],
   "source": [
    " # pip install plotly"
   ]
  },
  {
   "cell_type": "code",
   "execution_count": 2,
   "metadata": {},
   "outputs": [
    {
     "data": {
      "text/html": [
       "        <script type=\"text/javascript\">\n",
       "        window.PlotlyConfig = {MathJaxConfig: 'local'};\n",
       "        if (window.MathJax) {MathJax.Hub.Config({SVG: {font: \"STIX-Web\"}});}\n",
       "        if (typeof require !== 'undefined') {\n",
       "        require.undef(\"plotly\");\n",
       "        requirejs.config({\n",
       "            paths: {\n",
       "                'plotly': ['https://cdn.plot.ly/plotly-latest.min']\n",
       "            }\n",
       "        });\n",
       "        require(['plotly'], function(Plotly) {\n",
       "            window._Plotly = Plotly;\n",
       "        });\n",
       "        }\n",
       "        </script>\n",
       "        "
      ]
     },
     "metadata": {},
     "output_type": "display_data"
    }
   ],
   "source": [
    "import plotly.graph_objs as go\n",
    "from plotly.offline import init_notebook_mode,iplot,plot\n",
    "init_notebook_mode(connected=True)"
   ]
  },
  {
   "cell_type": "code",
   "execution_count": 3,
   "metadata": {},
   "outputs": [],
   "source": [
    "import pandas as pd"
   ]
  },
  {
   "cell_type": "markdown",
   "metadata": {},
   "source": [
    "# 2014_World_Power_Consumption"
   ]
  },
  {
   "cell_type": "code",
   "execution_count": 4,
   "metadata": {},
   "outputs": [],
   "source": [
    "df=pd.read_csv(\"2014_World_Power_Consumption\") # Power electricity use of countries"
   ]
  },
  {
   "cell_type": "code",
   "execution_count": 5,
   "metadata": {},
   "outputs": [
    {
     "data": {
      "text/html": [
       "<div>\n",
       "<style scoped>\n",
       "    .dataframe tbody tr th:only-of-type {\n",
       "        vertical-align: middle;\n",
       "    }\n",
       "\n",
       "    .dataframe tbody tr th {\n",
       "        vertical-align: top;\n",
       "    }\n",
       "\n",
       "    .dataframe thead th {\n",
       "        text-align: right;\n",
       "    }\n",
       "</style>\n",
       "<table border=\"1\" class=\"dataframe\">\n",
       "  <thead>\n",
       "    <tr style=\"text-align: right;\">\n",
       "      <th></th>\n",
       "      <th>Country</th>\n",
       "      <th>Power Consumption KWH</th>\n",
       "      <th>Text</th>\n",
       "    </tr>\n",
       "  </thead>\n",
       "  <tbody>\n",
       "    <tr>\n",
       "      <th>0</th>\n",
       "      <td>China</td>\n",
       "      <td>5.523000e+12</td>\n",
       "      <td>China 5,523,000,000,000</td>\n",
       "    </tr>\n",
       "    <tr>\n",
       "      <th>1</th>\n",
       "      <td>United States</td>\n",
       "      <td>3.832000e+12</td>\n",
       "      <td>United 3,832,000,000,000</td>\n",
       "    </tr>\n",
       "    <tr>\n",
       "      <th>2</th>\n",
       "      <td>European</td>\n",
       "      <td>2.771000e+12</td>\n",
       "      <td>European 2,771,000,000,000</td>\n",
       "    </tr>\n",
       "    <tr>\n",
       "      <th>3</th>\n",
       "      <td>Russia</td>\n",
       "      <td>1.065000e+12</td>\n",
       "      <td>Russia 1,065,000,000,000</td>\n",
       "    </tr>\n",
       "    <tr>\n",
       "      <th>4</th>\n",
       "      <td>Japan</td>\n",
       "      <td>9.210000e+11</td>\n",
       "      <td>Japan 921,000,000,000</td>\n",
       "    </tr>\n",
       "    <tr>\n",
       "      <th>5</th>\n",
       "      <td>India</td>\n",
       "      <td>8.647000e+11</td>\n",
       "      <td>India 864,700,000,000</td>\n",
       "    </tr>\n",
       "    <tr>\n",
       "      <th>6</th>\n",
       "      <td>Germany</td>\n",
       "      <td>5.401000e+11</td>\n",
       "      <td>Germany 540,100,000,000</td>\n",
       "    </tr>\n",
       "    <tr>\n",
       "      <th>7</th>\n",
       "      <td>Canada</td>\n",
       "      <td>5.110000e+11</td>\n",
       "      <td>Canada 511,000,000,000</td>\n",
       "    </tr>\n",
       "    <tr>\n",
       "      <th>8</th>\n",
       "      <td>Brazil</td>\n",
       "      <td>4.835000e+11</td>\n",
       "      <td>Brazil 483,500,000,000</td>\n",
       "    </tr>\n",
       "  </tbody>\n",
       "</table>\n",
       "</div>"
      ],
      "text/plain": [
       "         Country  Power Consumption KWH                        Text\n",
       "0          China           5.523000e+12     China 5,523,000,000,000\n",
       "1  United States           3.832000e+12    United 3,832,000,000,000\n",
       "2       European           2.771000e+12  European 2,771,000,000,000\n",
       "3         Russia           1.065000e+12    Russia 1,065,000,000,000\n",
       "4          Japan           9.210000e+11       Japan 921,000,000,000\n",
       "5          India           8.647000e+11       India 864,700,000,000\n",
       "6        Germany           5.401000e+11     Germany 540,100,000,000\n",
       "7         Canada           5.110000e+11      Canada 511,000,000,000\n",
       "8         Brazil           4.835000e+11      Brazil 483,500,000,000"
      ]
     },
     "execution_count": 5,
     "metadata": {},
     "output_type": "execute_result"
    }
   ],
   "source": [
    "df.head(9)"
   ]
  },
  {
   "cell_type": "code",
   "execution_count": 6,
   "metadata": {},
   "outputs": [
    {
     "data": {
      "text/html": [
       "<div>\n",
       "<style scoped>\n",
       "    .dataframe tbody tr th:only-of-type {\n",
       "        vertical-align: middle;\n",
       "    }\n",
       "\n",
       "    .dataframe tbody tr th {\n",
       "        vertical-align: top;\n",
       "    }\n",
       "\n",
       "    .dataframe thead th {\n",
       "        text-align: right;\n",
       "    }\n",
       "</style>\n",
       "<table border=\"1\" class=\"dataframe\">\n",
       "  <thead>\n",
       "    <tr style=\"text-align: right;\">\n",
       "      <th></th>\n",
       "      <th>Country</th>\n",
       "      <th>Power Consumption KWH</th>\n",
       "      <th>Text</th>\n",
       "    </tr>\n",
       "  </thead>\n",
       "  <tbody>\n",
       "    <tr>\n",
       "      <th>19</th>\n",
       "      <td>Turkey</td>\n",
       "      <td>1.970000e+11</td>\n",
       "      <td>Turkey 197,000,000,000</td>\n",
       "    </tr>\n",
       "  </tbody>\n",
       "</table>\n",
       "</div>"
      ],
      "text/plain": [
       "   Country  Power Consumption KWH                    Text\n",
       "19  Turkey           1.970000e+11  Turkey 197,000,000,000"
      ]
     },
     "execution_count": 6,
     "metadata": {},
     "output_type": "execute_result"
    }
   ],
   "source": [
    "df[df.Country==\"Turkey\"]"
   ]
  },
  {
   "cell_type": "code",
   "execution_count": 7,
   "metadata": {},
   "outputs": [],
   "source": [
    "data = dict(\n",
    "        type = 'choropleth',\n",
    "        colorscale = 'Viridis',\n",
    "        reversescale = True,\n",
    "        locations = df['Country'],\n",
    "        locationmode = \"country names\",\n",
    "        z = df['Power Consumption KWH'],\n",
    "        text = df['Country'],\n",
    "        colorbar = {'title' : 'Power Consumption KWH'},\n",
    "      )\n",
    "layout = dict(title = '2014 Power Consumption KWH',\n",
    "                geo = dict(showframe = False,projection = {'type':'mercator'})\n",
    "             )"
   ]
  },
  {
   "cell_type": "code",
   "execution_count": 8,
   "metadata": {},
   "outputs": [
    {
     "data": {
      "application/vnd.plotly.v1+json": {
       "config": {
        "linkText": "Export to plot.ly",
        "plotlyServerURL": "https://plot.ly",
        "showLink": false
       },
       "data": [
        {
         "colorbar": {
          "title": {
           "text": "Power Consumption KWH"
          }
         },
         "colorscale": [
          [
           0,
           "#440154"
          ],
          [
           0.1111111111111111,
           "#482878"
          ],
          [
           0.2222222222222222,
           "#3e4989"
          ],
          [
           0.3333333333333333,
           "#31688e"
          ],
          [
           0.4444444444444444,
           "#26828e"
          ],
          [
           0.5555555555555556,
           "#1f9e89"
          ],
          [
           0.6666666666666666,
           "#35b779"
          ],
          [
           0.7777777777777778,
           "#6ece58"
          ],
          [
           0.8888888888888888,
           "#b5de2b"
          ],
          [
           1,
           "#fde725"
          ]
         ],
         "locationmode": "country names",
         "locations": [
          "China",
          "United States",
          "European",
          "Russia",
          "Japan",
          "India",
          "Germany",
          "Canada",
          "Brazil",
          "Korea,",
          "France",
          "United Kingdom",
          "Italy",
          "Taiwan",
          "Spain",
          "Mexico",
          "Saudi",
          "Australia",
          "South",
          "Turkey",
          "Iran",
          "Indonesia",
          "Ukraine",
          "Thailand",
          "Poland",
          "Egypt",
          "Sweden",
          "Norway",
          "Malaysia",
          "Argentina",
          "Netherlands",
          "Vietnam",
          "Venezuela",
          "United Arab Emirates",
          "Finland",
          "Belgium",
          "Kazakhstan",
          "Pakistan",
          "Philippines",
          "Austria",
          "Chile",
          "Czechia",
          "Israel",
          "Switzerland",
          "Greece",
          "Iraq",
          "Romania",
          "Kuwait",
          "Colombia",
          "Singapore",
          "Portugal",
          "Uzbekistan",
          "Hong",
          "Algeria",
          "Bangladesh",
          "New",
          "Bulgaria",
          "Belarus",
          "Peru",
          "Denmark",
          "Qatar",
          "Slovakia",
          "Libya",
          "Serbia",
          "Morocco",
          "Syria",
          "Nigeria",
          "Ireland",
          "Hungary",
          "Oman",
          "Ecuador",
          "Puerto",
          "Azerbaijan",
          "Croatia",
          "Iceland",
          "Cuba",
          "Korea,",
          "Dominican",
          "Jordan",
          "Tajikistan",
          "Tunisia",
          "Slovenia",
          "Lebanon",
          "Bosnia",
          "Turkmenistan",
          "Bahrain",
          "Mozambique",
          "Ghana",
          "Sri",
          "Kyrgyzstan",
          "Lithuania",
          "Uruguay",
          "Costa",
          "Guatemala",
          "Georgia",
          "Trinidad",
          "Zambia",
          "Paraguay",
          "Albania",
          "Burma",
          "Estonia",
          "Congo,",
          "Panama",
          "Latvia",
          "Macedonia",
          "Zimbabwe",
          "Kenya",
          "Bolivia",
          "Luxembourg",
          "Sudan",
          "El",
          "Cameroon",
          "West",
          "Ethiopia",
          "Armenia",
          "Honduras",
          "Angola",
          "Cote",
          "Tanzania",
          "Nicaragua",
          "Moldova",
          "Cyprus",
          "Macau",
          "Namibia",
          "Mongolia",
          "Afghanistan",
          "Yemen",
          "Brunei",
          "Cambodia",
          "Montenegro",
          "Nepal",
          "Botswana",
          "Papua",
          "Jamaica",
          "Kosovo",
          "Laos",
          "Uganda",
          "New",
          "Mauritius",
          "Senegal",
          "Bhutan",
          "Malawi",
          "Madagascar",
          "Bahamas,",
          "Gabon",
          "Suriname",
          "Guam",
          "Liechtenstein",
          "Swaziland",
          "Burkina",
          "Togo",
          "Curacao",
          "Mauritania",
          "Barbados",
          "Niger",
          "Aruba",
          "Benin",
          "Guinea",
          "Mali",
          "Fiji",
          "Congo,",
          "Virgin",
          "Lesotho",
          "South",
          "Bermuda",
          "French",
          "Jersey",
          "Belize",
          "Andorra",
          "Guyana",
          "Cayman",
          "Haiti",
          "Rwanda",
          "Saint",
          "Djibouti",
          "Seychelles",
          "Somalia",
          "Antigua",
          "Greenland",
          "Cabo",
          "Eritrea",
          "Burundi",
          "Liberia",
          "Maldives",
          "Faroe",
          "Gambia,",
          "Chad",
          "Micronesia,",
          "Grenada",
          "Central",
          "Turks",
          "Gibraltar",
          "American",
          "Sierra",
          "Saint",
          "Saint",
          "Timor-Leste",
          "Equatorial",
          "Samoa",
          "Dominica",
          "Western",
          "Solomon",
          "Sao",
          "British",
          "Vanuatu",
          "Guinea-Bissau",
          "Tonga",
          "Saint",
          "Comoros",
          "Cook",
          "Kiribati",
          "Montserrat",
          "Nauru",
          "Falkland",
          "Saint",
          "Niue",
          "Gaza",
          "Malta",
          "Northern"
         ],
         "reversescale": true,
         "text": [
          "China",
          "United States",
          "European",
          "Russia",
          "Japan",
          "India",
          "Germany",
          "Canada",
          "Brazil",
          "Korea,",
          "France",
          "United Kingdom",
          "Italy",
          "Taiwan",
          "Spain",
          "Mexico",
          "Saudi",
          "Australia",
          "South",
          "Turkey",
          "Iran",
          "Indonesia",
          "Ukraine",
          "Thailand",
          "Poland",
          "Egypt",
          "Sweden",
          "Norway",
          "Malaysia",
          "Argentina",
          "Netherlands",
          "Vietnam",
          "Venezuela",
          "United Arab Emirates",
          "Finland",
          "Belgium",
          "Kazakhstan",
          "Pakistan",
          "Philippines",
          "Austria",
          "Chile",
          "Czechia",
          "Israel",
          "Switzerland",
          "Greece",
          "Iraq",
          "Romania",
          "Kuwait",
          "Colombia",
          "Singapore",
          "Portugal",
          "Uzbekistan",
          "Hong",
          "Algeria",
          "Bangladesh",
          "New",
          "Bulgaria",
          "Belarus",
          "Peru",
          "Denmark",
          "Qatar",
          "Slovakia",
          "Libya",
          "Serbia",
          "Morocco",
          "Syria",
          "Nigeria",
          "Ireland",
          "Hungary",
          "Oman",
          "Ecuador",
          "Puerto",
          "Azerbaijan",
          "Croatia",
          "Iceland",
          "Cuba",
          "Korea,",
          "Dominican",
          "Jordan",
          "Tajikistan",
          "Tunisia",
          "Slovenia",
          "Lebanon",
          "Bosnia",
          "Turkmenistan",
          "Bahrain",
          "Mozambique",
          "Ghana",
          "Sri",
          "Kyrgyzstan",
          "Lithuania",
          "Uruguay",
          "Costa",
          "Guatemala",
          "Georgia",
          "Trinidad",
          "Zambia",
          "Paraguay",
          "Albania",
          "Burma",
          "Estonia",
          "Congo,",
          "Panama",
          "Latvia",
          "Macedonia",
          "Zimbabwe",
          "Kenya",
          "Bolivia",
          "Luxembourg",
          "Sudan",
          "El",
          "Cameroon",
          "West",
          "Ethiopia",
          "Armenia",
          "Honduras",
          "Angola",
          "Cote",
          "Tanzania",
          "Nicaragua",
          "Moldova",
          "Cyprus",
          "Macau",
          "Namibia",
          "Mongolia",
          "Afghanistan",
          "Yemen",
          "Brunei",
          "Cambodia",
          "Montenegro",
          "Nepal",
          "Botswana",
          "Papua",
          "Jamaica",
          "Kosovo",
          "Laos",
          "Uganda",
          "New",
          "Mauritius",
          "Senegal",
          "Bhutan",
          "Malawi",
          "Madagascar",
          "Bahamas,",
          "Gabon",
          "Suriname",
          "Guam",
          "Liechtenstein",
          "Swaziland",
          "Burkina",
          "Togo",
          "Curacao",
          "Mauritania",
          "Barbados",
          "Niger",
          "Aruba",
          "Benin",
          "Guinea",
          "Mali",
          "Fiji",
          "Congo,",
          "Virgin",
          "Lesotho",
          "South",
          "Bermuda",
          "French",
          "Jersey",
          "Belize",
          "Andorra",
          "Guyana",
          "Cayman",
          "Haiti",
          "Rwanda",
          "Saint",
          "Djibouti",
          "Seychelles",
          "Somalia",
          "Antigua",
          "Greenland",
          "Cabo",
          "Eritrea",
          "Burundi",
          "Liberia",
          "Maldives",
          "Faroe",
          "Gambia,",
          "Chad",
          "Micronesia,",
          "Grenada",
          "Central",
          "Turks",
          "Gibraltar",
          "American",
          "Sierra",
          "Saint",
          "Saint",
          "Timor-Leste",
          "Equatorial",
          "Samoa",
          "Dominica",
          "Western",
          "Solomon",
          "Sao",
          "British",
          "Vanuatu",
          "Guinea-Bissau",
          "Tonga",
          "Saint",
          "Comoros",
          "Cook",
          "Kiribati",
          "Montserrat",
          "Nauru",
          "Falkland",
          "Saint",
          "Niue",
          "Gaza",
          "Malta",
          "Northern"
         ],
         "type": "choropleth",
         "z": [
          5523000000000,
          3832000000000,
          2771000000000,
          1065000000000,
          921000000000,
          864700000000,
          540100000000,
          511000000000,
          483500000000,
          482400000000,
          451100000000,
          319100000000,
          303100000000,
          249500000000,
          243100000000,
          234000000000,
          231600000000,
          222600000000,
          211600000000,
          197000000000,
          195300000000,
          167500000000,
          159800000000,
          155900000000,
          139000000000,
          135600000000,
          130500000000,
          126400000000,
          118500000000,
          117100000000,
          116800000000,
          108300000000,
          97690000000,
          93280000000,
          82040000000,
          81890000000,
          80290000000,
          78890000000,
          75270000000,
          69750000000,
          63390000000,
          60550000000,
          59830000000,
          58010000000,
          57730000000,
          53410000000,
          50730000000,
          50000000000,
          49380000000,
          47180000000,
          46250000000,
          45210000000,
          44210000000,
          42870000000,
          41520000000,
          40300000000,
          37990000000,
          37880000000,
          35690000000,
          31960000000,
          30530000000,
          28360000000,
          27540000000,
          26910000000,
          26700000000,
          25700000000,
          24780000000,
          24240000000,
          21550000000,
          20360000000,
          19020000000,
          18620000000,
          17790000000,
          16970000000,
          16940000000,
          16200000000,
          16000000000,
          15140000000,
          14560000000,
          14420000000,
          13310000000,
          13020000000,
          12940000000,
          12560000000,
          11750000000,
          11690000000,
          11280000000,
          10580000000,
          10170000000,
          9943000000,
          9664000000,
          9559000000,
          8987000000,
          8915000000,
          8468000000,
          8365000000,
          8327000000,
          8125000000,
          7793000000,
          7765000000,
          7417000000,
          7292000000,
          7144000000,
          7141000000,
          6960000000,
          6831000000,
          6627000000,
          6456000000,
          6108000000,
          5665000000,
          5665000000,
          5535000000,
          5312000000,
          5227000000,
          5043000000,
          5036000000,
          4842000000,
          4731000000,
          4545000000,
          4412000000,
          4305000000,
          4296000000,
          4291000000,
          4238000000,
          4204000000,
          3893000000,
          3838000000,
          3766000000,
          3553000000,
          3465000000,
          3239000000,
          3213000000,
          3116000000,
          3008000000,
          2887000000,
          2874000000,
          2821000000,
          2716000000,
          2658000000,
          2586000000,
          2085000000,
          2027000000,
          1883000000,
          1716000000,
          1680000000,
          1572000000,
          1566000000,
          1360000000,
          1295000000,
          985500000,
          976000000,
          968000000,
          962600000,
          938000000,
          930200000,
          920700000,
          911000000,
          903000000,
          882600000,
          777600000,
          740000000,
          723500000,
          707000000,
          694100000,
          664200000,
          652900000,
          630100000,
          605000000,
          562400000,
          558000000,
          545900000,
          452000000,
          365500000,
          336400000,
          311600000,
          293900000,
          293000000,
          293000000,
          292000000,
          285500000,
          284000000,
          282900000,
          276900000,
          267100000,
          261300000,
          218600000,
          190700000,
          178600000,
          178000000,
          168300000,
          167400000,
          160000000,
          146000000,
          134900000,
          130200000,
          127400000,
          125300000,
          93000000,
          90400000,
          89750000,
          83700000,
          79050000,
          60450000,
          51150000,
          49290000,
          46500000,
          44640000,
          39990000,
          39990000,
          28950000,
          24180000,
          23250000,
          23250000,
          11160000,
          7440000,
          2790000,
          202000,
          174700,
          48300
         ]
        }
       ],
       "layout": {
        "geo": {
         "projection": {
          "type": "mercator"
         },
         "showframe": false
        },
        "template": {
         "data": {
          "bar": [
           {
            "error_x": {
             "color": "#2a3f5f"
            },
            "error_y": {
             "color": "#2a3f5f"
            },
            "marker": {
             "line": {
              "color": "#E5ECF6",
              "width": 0.5
             }
            },
            "type": "bar"
           }
          ],
          "barpolar": [
           {
            "marker": {
             "line": {
              "color": "#E5ECF6",
              "width": 0.5
             }
            },
            "type": "barpolar"
           }
          ],
          "carpet": [
           {
            "aaxis": {
             "endlinecolor": "#2a3f5f",
             "gridcolor": "white",
             "linecolor": "white",
             "minorgridcolor": "white",
             "startlinecolor": "#2a3f5f"
            },
            "baxis": {
             "endlinecolor": "#2a3f5f",
             "gridcolor": "white",
             "linecolor": "white",
             "minorgridcolor": "white",
             "startlinecolor": "#2a3f5f"
            },
            "type": "carpet"
           }
          ],
          "choropleth": [
           {
            "colorbar": {
             "outlinewidth": 0,
             "ticks": ""
            },
            "type": "choropleth"
           }
          ],
          "contour": [
           {
            "colorbar": {
             "outlinewidth": 0,
             "ticks": ""
            },
            "colorscale": [
             [
              0,
              "#0d0887"
             ],
             [
              0.1111111111111111,
              "#46039f"
             ],
             [
              0.2222222222222222,
              "#7201a8"
             ],
             [
              0.3333333333333333,
              "#9c179e"
             ],
             [
              0.4444444444444444,
              "#bd3786"
             ],
             [
              0.5555555555555556,
              "#d8576b"
             ],
             [
              0.6666666666666666,
              "#ed7953"
             ],
             [
              0.7777777777777778,
              "#fb9f3a"
             ],
             [
              0.8888888888888888,
              "#fdca26"
             ],
             [
              1,
              "#f0f921"
             ]
            ],
            "type": "contour"
           }
          ],
          "contourcarpet": [
           {
            "colorbar": {
             "outlinewidth": 0,
             "ticks": ""
            },
            "type": "contourcarpet"
           }
          ],
          "heatmap": [
           {
            "colorbar": {
             "outlinewidth": 0,
             "ticks": ""
            },
            "colorscale": [
             [
              0,
              "#0d0887"
             ],
             [
              0.1111111111111111,
              "#46039f"
             ],
             [
              0.2222222222222222,
              "#7201a8"
             ],
             [
              0.3333333333333333,
              "#9c179e"
             ],
             [
              0.4444444444444444,
              "#bd3786"
             ],
             [
              0.5555555555555556,
              "#d8576b"
             ],
             [
              0.6666666666666666,
              "#ed7953"
             ],
             [
              0.7777777777777778,
              "#fb9f3a"
             ],
             [
              0.8888888888888888,
              "#fdca26"
             ],
             [
              1,
              "#f0f921"
             ]
            ],
            "type": "heatmap"
           }
          ],
          "heatmapgl": [
           {
            "colorbar": {
             "outlinewidth": 0,
             "ticks": ""
            },
            "colorscale": [
             [
              0,
              "#0d0887"
             ],
             [
              0.1111111111111111,
              "#46039f"
             ],
             [
              0.2222222222222222,
              "#7201a8"
             ],
             [
              0.3333333333333333,
              "#9c179e"
             ],
             [
              0.4444444444444444,
              "#bd3786"
             ],
             [
              0.5555555555555556,
              "#d8576b"
             ],
             [
              0.6666666666666666,
              "#ed7953"
             ],
             [
              0.7777777777777778,
              "#fb9f3a"
             ],
             [
              0.8888888888888888,
              "#fdca26"
             ],
             [
              1,
              "#f0f921"
             ]
            ],
            "type": "heatmapgl"
           }
          ],
          "histogram": [
           {
            "marker": {
             "colorbar": {
              "outlinewidth": 0,
              "ticks": ""
             }
            },
            "type": "histogram"
           }
          ],
          "histogram2d": [
           {
            "colorbar": {
             "outlinewidth": 0,
             "ticks": ""
            },
            "colorscale": [
             [
              0,
              "#0d0887"
             ],
             [
              0.1111111111111111,
              "#46039f"
             ],
             [
              0.2222222222222222,
              "#7201a8"
             ],
             [
              0.3333333333333333,
              "#9c179e"
             ],
             [
              0.4444444444444444,
              "#bd3786"
             ],
             [
              0.5555555555555556,
              "#d8576b"
             ],
             [
              0.6666666666666666,
              "#ed7953"
             ],
             [
              0.7777777777777778,
              "#fb9f3a"
             ],
             [
              0.8888888888888888,
              "#fdca26"
             ],
             [
              1,
              "#f0f921"
             ]
            ],
            "type": "histogram2d"
           }
          ],
          "histogram2dcontour": [
           {
            "colorbar": {
             "outlinewidth": 0,
             "ticks": ""
            },
            "colorscale": [
             [
              0,
              "#0d0887"
             ],
             [
              0.1111111111111111,
              "#46039f"
             ],
             [
              0.2222222222222222,
              "#7201a8"
             ],
             [
              0.3333333333333333,
              "#9c179e"
             ],
             [
              0.4444444444444444,
              "#bd3786"
             ],
             [
              0.5555555555555556,
              "#d8576b"
             ],
             [
              0.6666666666666666,
              "#ed7953"
             ],
             [
              0.7777777777777778,
              "#fb9f3a"
             ],
             [
              0.8888888888888888,
              "#fdca26"
             ],
             [
              1,
              "#f0f921"
             ]
            ],
            "type": "histogram2dcontour"
           }
          ],
          "mesh3d": [
           {
            "colorbar": {
             "outlinewidth": 0,
             "ticks": ""
            },
            "type": "mesh3d"
           }
          ],
          "parcoords": [
           {
            "line": {
             "colorbar": {
              "outlinewidth": 0,
              "ticks": ""
             }
            },
            "type": "parcoords"
           }
          ],
          "pie": [
           {
            "automargin": true,
            "type": "pie"
           }
          ],
          "scatter": [
           {
            "marker": {
             "colorbar": {
              "outlinewidth": 0,
              "ticks": ""
             }
            },
            "type": "scatter"
           }
          ],
          "scatter3d": [
           {
            "line": {
             "colorbar": {
              "outlinewidth": 0,
              "ticks": ""
             }
            },
            "marker": {
             "colorbar": {
              "outlinewidth": 0,
              "ticks": ""
             }
            },
            "type": "scatter3d"
           }
          ],
          "scattercarpet": [
           {
            "marker": {
             "colorbar": {
              "outlinewidth": 0,
              "ticks": ""
             }
            },
            "type": "scattercarpet"
           }
          ],
          "scattergeo": [
           {
            "marker": {
             "colorbar": {
              "outlinewidth": 0,
              "ticks": ""
             }
            },
            "type": "scattergeo"
           }
          ],
          "scattergl": [
           {
            "marker": {
             "colorbar": {
              "outlinewidth": 0,
              "ticks": ""
             }
            },
            "type": "scattergl"
           }
          ],
          "scattermapbox": [
           {
            "marker": {
             "colorbar": {
              "outlinewidth": 0,
              "ticks": ""
             }
            },
            "type": "scattermapbox"
           }
          ],
          "scatterpolar": [
           {
            "marker": {
             "colorbar": {
              "outlinewidth": 0,
              "ticks": ""
             }
            },
            "type": "scatterpolar"
           }
          ],
          "scatterpolargl": [
           {
            "marker": {
             "colorbar": {
              "outlinewidth": 0,
              "ticks": ""
             }
            },
            "type": "scatterpolargl"
           }
          ],
          "scatterternary": [
           {
            "marker": {
             "colorbar": {
              "outlinewidth": 0,
              "ticks": ""
             }
            },
            "type": "scatterternary"
           }
          ],
          "surface": [
           {
            "colorbar": {
             "outlinewidth": 0,
             "ticks": ""
            },
            "colorscale": [
             [
              0,
              "#0d0887"
             ],
             [
              0.1111111111111111,
              "#46039f"
             ],
             [
              0.2222222222222222,
              "#7201a8"
             ],
             [
              0.3333333333333333,
              "#9c179e"
             ],
             [
              0.4444444444444444,
              "#bd3786"
             ],
             [
              0.5555555555555556,
              "#d8576b"
             ],
             [
              0.6666666666666666,
              "#ed7953"
             ],
             [
              0.7777777777777778,
              "#fb9f3a"
             ],
             [
              0.8888888888888888,
              "#fdca26"
             ],
             [
              1,
              "#f0f921"
             ]
            ],
            "type": "surface"
           }
          ],
          "table": [
           {
            "cells": {
             "fill": {
              "color": "#EBF0F8"
             },
             "line": {
              "color": "white"
             }
            },
            "header": {
             "fill": {
              "color": "#C8D4E3"
             },
             "line": {
              "color": "white"
             }
            },
            "type": "table"
           }
          ]
         },
         "layout": {
          "annotationdefaults": {
           "arrowcolor": "#2a3f5f",
           "arrowhead": 0,
           "arrowwidth": 1
          },
          "autotypenumbers": "strict",
          "coloraxis": {
           "colorbar": {
            "outlinewidth": 0,
            "ticks": ""
           }
          },
          "colorscale": {
           "diverging": [
            [
             0,
             "#8e0152"
            ],
            [
             0.1,
             "#c51b7d"
            ],
            [
             0.2,
             "#de77ae"
            ],
            [
             0.3,
             "#f1b6da"
            ],
            [
             0.4,
             "#fde0ef"
            ],
            [
             0.5,
             "#f7f7f7"
            ],
            [
             0.6,
             "#e6f5d0"
            ],
            [
             0.7,
             "#b8e186"
            ],
            [
             0.8,
             "#7fbc41"
            ],
            [
             0.9,
             "#4d9221"
            ],
            [
             1,
             "#276419"
            ]
           ],
           "sequential": [
            [
             0,
             "#0d0887"
            ],
            [
             0.1111111111111111,
             "#46039f"
            ],
            [
             0.2222222222222222,
             "#7201a8"
            ],
            [
             0.3333333333333333,
             "#9c179e"
            ],
            [
             0.4444444444444444,
             "#bd3786"
            ],
            [
             0.5555555555555556,
             "#d8576b"
            ],
            [
             0.6666666666666666,
             "#ed7953"
            ],
            [
             0.7777777777777778,
             "#fb9f3a"
            ],
            [
             0.8888888888888888,
             "#fdca26"
            ],
            [
             1,
             "#f0f921"
            ]
           ],
           "sequentialminus": [
            [
             0,
             "#0d0887"
            ],
            [
             0.1111111111111111,
             "#46039f"
            ],
            [
             0.2222222222222222,
             "#7201a8"
            ],
            [
             0.3333333333333333,
             "#9c179e"
            ],
            [
             0.4444444444444444,
             "#bd3786"
            ],
            [
             0.5555555555555556,
             "#d8576b"
            ],
            [
             0.6666666666666666,
             "#ed7953"
            ],
            [
             0.7777777777777778,
             "#fb9f3a"
            ],
            [
             0.8888888888888888,
             "#fdca26"
            ],
            [
             1,
             "#f0f921"
            ]
           ]
          },
          "colorway": [
           "#636efa",
           "#EF553B",
           "#00cc96",
           "#ab63fa",
           "#FFA15A",
           "#19d3f3",
           "#FF6692",
           "#B6E880",
           "#FF97FF",
           "#FECB52"
          ],
          "font": {
           "color": "#2a3f5f"
          },
          "geo": {
           "bgcolor": "white",
           "lakecolor": "white",
           "landcolor": "#E5ECF6",
           "showlakes": true,
           "showland": true,
           "subunitcolor": "white"
          },
          "hoverlabel": {
           "align": "left"
          },
          "hovermode": "closest",
          "mapbox": {
           "style": "light"
          },
          "paper_bgcolor": "white",
          "plot_bgcolor": "#E5ECF6",
          "polar": {
           "angularaxis": {
            "gridcolor": "white",
            "linecolor": "white",
            "ticks": ""
           },
           "bgcolor": "#E5ECF6",
           "radialaxis": {
            "gridcolor": "white",
            "linecolor": "white",
            "ticks": ""
           }
          },
          "scene": {
           "xaxis": {
            "backgroundcolor": "#E5ECF6",
            "gridcolor": "white",
            "gridwidth": 2,
            "linecolor": "white",
            "showbackground": true,
            "ticks": "",
            "zerolinecolor": "white"
           },
           "yaxis": {
            "backgroundcolor": "#E5ECF6",
            "gridcolor": "white",
            "gridwidth": 2,
            "linecolor": "white",
            "showbackground": true,
            "ticks": "",
            "zerolinecolor": "white"
           },
           "zaxis": {
            "backgroundcolor": "#E5ECF6",
            "gridcolor": "white",
            "gridwidth": 2,
            "linecolor": "white",
            "showbackground": true,
            "ticks": "",
            "zerolinecolor": "white"
           }
          },
          "shapedefaults": {
           "line": {
            "color": "#2a3f5f"
           }
          },
          "ternary": {
           "aaxis": {
            "gridcolor": "white",
            "linecolor": "white",
            "ticks": ""
           },
           "baxis": {
            "gridcolor": "white",
            "linecolor": "white",
            "ticks": ""
           },
           "bgcolor": "#E5ECF6",
           "caxis": {
            "gridcolor": "white",
            "linecolor": "white",
            "ticks": ""
           }
          },
          "title": {
           "x": 0.05
          },
          "xaxis": {
           "automargin": true,
           "gridcolor": "white",
           "linecolor": "white",
           "ticks": "",
           "title": {
            "standoff": 15
           },
           "zerolinecolor": "white",
           "zerolinewidth": 2
          },
          "yaxis": {
           "automargin": true,
           "gridcolor": "white",
           "linecolor": "white",
           "ticks": "",
           "title": {
            "standoff": 15
           },
           "zerolinecolor": "white",
           "zerolinewidth": 2
          }
         }
        },
        "title": {
         "text": "2014 Power Consumption KWH"
        }
       }
      },
      "text/html": [
       "<div>                            <div id=\"6c79608e-2274-4880-941d-bb515d00cc92\" class=\"plotly-graph-div\" style=\"height:525px; width:100%;\"></div>            <script type=\"text/javascript\">                require([\"plotly\"], function(Plotly) {                    window.PLOTLYENV=window.PLOTLYENV || {};                                    if (document.getElementById(\"6c79608e-2274-4880-941d-bb515d00cc92\")) {                    Plotly.newPlot(                        \"6c79608e-2274-4880-941d-bb515d00cc92\",                        [{\"colorbar\": {\"title\": {\"text\": \"Power Consumption KWH\"}}, \"colorscale\": [[0.0, \"#440154\"], [0.1111111111111111, \"#482878\"], [0.2222222222222222, \"#3e4989\"], [0.3333333333333333, \"#31688e\"], [0.4444444444444444, \"#26828e\"], [0.5555555555555556, \"#1f9e89\"], [0.6666666666666666, \"#35b779\"], [0.7777777777777778, \"#6ece58\"], [0.8888888888888888, \"#b5de2b\"], [1.0, \"#fde725\"]], \"locationmode\": \"country names\", \"locations\": [\"China\", \"United States\", \"European\", \"Russia\", \"Japan\", \"India\", \"Germany\", \"Canada\", \"Brazil\", \"Korea,\", \"France\", \"United Kingdom\", \"Italy\", \"Taiwan\", \"Spain\", \"Mexico\", \"Saudi\", \"Australia\", \"South\", \"Turkey\", \"Iran\", \"Indonesia\", \"Ukraine\", \"Thailand\", \"Poland\", \"Egypt\", \"Sweden\", \"Norway\", \"Malaysia\", \"Argentina\", \"Netherlands\", \"Vietnam\", \"Venezuela\", \"United Arab Emirates\", \"Finland\", \"Belgium\", \"Kazakhstan\", \"Pakistan\", \"Philippines\", \"Austria\", \"Chile\", \"Czechia\", \"Israel\", \"Switzerland\", \"Greece\", \"Iraq\", \"Romania\", \"Kuwait\", \"Colombia\", \"Singapore\", \"Portugal\", \"Uzbekistan\", \"Hong\", \"Algeria\", \"Bangladesh\", \"New\", \"Bulgaria\", \"Belarus\", \"Peru\", \"Denmark\", \"Qatar\", \"Slovakia\", \"Libya\", \"Serbia\", \"Morocco\", \"Syria\", \"Nigeria\", \"Ireland\", \"Hungary\", \"Oman\", \"Ecuador\", \"Puerto\", \"Azerbaijan\", \"Croatia\", \"Iceland\", \"Cuba\", \"Korea,\", \"Dominican\", \"Jordan\", \"Tajikistan\", \"Tunisia\", \"Slovenia\", \"Lebanon\", \"Bosnia\", \"Turkmenistan\", \"Bahrain\", \"Mozambique\", \"Ghana\", \"Sri\", \"Kyrgyzstan\", \"Lithuania\", \"Uruguay\", \"Costa\", \"Guatemala\", \"Georgia\", \"Trinidad\", \"Zambia\", \"Paraguay\", \"Albania\", \"Burma\", \"Estonia\", \"Congo,\", \"Panama\", \"Latvia\", \"Macedonia\", \"Zimbabwe\", \"Kenya\", \"Bolivia\", \"Luxembourg\", \"Sudan\", \"El\", \"Cameroon\", \"West\", \"Ethiopia\", \"Armenia\", \"Honduras\", \"Angola\", \"Cote\", \"Tanzania\", \"Nicaragua\", \"Moldova\", \"Cyprus\", \"Macau\", \"Namibia\", \"Mongolia\", \"Afghanistan\", \"Yemen\", \"Brunei\", \"Cambodia\", \"Montenegro\", \"Nepal\", \"Botswana\", \"Papua\", \"Jamaica\", \"Kosovo\", \"Laos\", \"Uganda\", \"New\", \"Mauritius\", \"Senegal\", \"Bhutan\", \"Malawi\", \"Madagascar\", \"Bahamas,\", \"Gabon\", \"Suriname\", \"Guam\", \"Liechtenstein\", \"Swaziland\", \"Burkina\", \"Togo\", \"Curacao\", \"Mauritania\", \"Barbados\", \"Niger\", \"Aruba\", \"Benin\", \"Guinea\", \"Mali\", \"Fiji\", \"Congo,\", \"Virgin\", \"Lesotho\", \"South\", \"Bermuda\", \"French\", \"Jersey\", \"Belize\", \"Andorra\", \"Guyana\", \"Cayman\", \"Haiti\", \"Rwanda\", \"Saint\", \"Djibouti\", \"Seychelles\", \"Somalia\", \"Antigua\", \"Greenland\", \"Cabo\", \"Eritrea\", \"Burundi\", \"Liberia\", \"Maldives\", \"Faroe\", \"Gambia,\", \"Chad\", \"Micronesia,\", \"Grenada\", \"Central\", \"Turks\", \"Gibraltar\", \"American\", \"Sierra\", \"Saint\", \"Saint\", \"Timor-Leste\", \"Equatorial\", \"Samoa\", \"Dominica\", \"Western\", \"Solomon\", \"Sao\", \"British\", \"Vanuatu\", \"Guinea-Bissau\", \"Tonga\", \"Saint\", \"Comoros\", \"Cook\", \"Kiribati\", \"Montserrat\", \"Nauru\", \"Falkland\", \"Saint\", \"Niue\", \"Gaza\", \"Malta\", \"Northern\"], \"reversescale\": true, \"text\": [\"China\", \"United States\", \"European\", \"Russia\", \"Japan\", \"India\", \"Germany\", \"Canada\", \"Brazil\", \"Korea,\", \"France\", \"United Kingdom\", \"Italy\", \"Taiwan\", \"Spain\", \"Mexico\", \"Saudi\", \"Australia\", \"South\", \"Turkey\", \"Iran\", \"Indonesia\", \"Ukraine\", \"Thailand\", \"Poland\", \"Egypt\", \"Sweden\", \"Norway\", \"Malaysia\", \"Argentina\", \"Netherlands\", \"Vietnam\", \"Venezuela\", \"United Arab Emirates\", \"Finland\", \"Belgium\", \"Kazakhstan\", \"Pakistan\", \"Philippines\", \"Austria\", \"Chile\", \"Czechia\", \"Israel\", \"Switzerland\", \"Greece\", \"Iraq\", \"Romania\", \"Kuwait\", \"Colombia\", \"Singapore\", \"Portugal\", \"Uzbekistan\", \"Hong\", \"Algeria\", \"Bangladesh\", \"New\", \"Bulgaria\", \"Belarus\", \"Peru\", \"Denmark\", \"Qatar\", \"Slovakia\", \"Libya\", \"Serbia\", \"Morocco\", \"Syria\", \"Nigeria\", \"Ireland\", \"Hungary\", \"Oman\", \"Ecuador\", \"Puerto\", \"Azerbaijan\", \"Croatia\", \"Iceland\", \"Cuba\", \"Korea,\", \"Dominican\", \"Jordan\", \"Tajikistan\", \"Tunisia\", \"Slovenia\", \"Lebanon\", \"Bosnia\", \"Turkmenistan\", \"Bahrain\", \"Mozambique\", \"Ghana\", \"Sri\", \"Kyrgyzstan\", \"Lithuania\", \"Uruguay\", \"Costa\", \"Guatemala\", \"Georgia\", \"Trinidad\", \"Zambia\", \"Paraguay\", \"Albania\", \"Burma\", \"Estonia\", \"Congo,\", \"Panama\", \"Latvia\", \"Macedonia\", \"Zimbabwe\", \"Kenya\", \"Bolivia\", \"Luxembourg\", \"Sudan\", \"El\", \"Cameroon\", \"West\", \"Ethiopia\", \"Armenia\", \"Honduras\", \"Angola\", \"Cote\", \"Tanzania\", \"Nicaragua\", \"Moldova\", \"Cyprus\", \"Macau\", \"Namibia\", \"Mongolia\", \"Afghanistan\", \"Yemen\", \"Brunei\", \"Cambodia\", \"Montenegro\", \"Nepal\", \"Botswana\", \"Papua\", \"Jamaica\", \"Kosovo\", \"Laos\", \"Uganda\", \"New\", \"Mauritius\", \"Senegal\", \"Bhutan\", \"Malawi\", \"Madagascar\", \"Bahamas,\", \"Gabon\", \"Suriname\", \"Guam\", \"Liechtenstein\", \"Swaziland\", \"Burkina\", \"Togo\", \"Curacao\", \"Mauritania\", \"Barbados\", \"Niger\", \"Aruba\", \"Benin\", \"Guinea\", \"Mali\", \"Fiji\", \"Congo,\", \"Virgin\", \"Lesotho\", \"South\", \"Bermuda\", \"French\", \"Jersey\", \"Belize\", \"Andorra\", \"Guyana\", \"Cayman\", \"Haiti\", \"Rwanda\", \"Saint\", \"Djibouti\", \"Seychelles\", \"Somalia\", \"Antigua\", \"Greenland\", \"Cabo\", \"Eritrea\", \"Burundi\", \"Liberia\", \"Maldives\", \"Faroe\", \"Gambia,\", \"Chad\", \"Micronesia,\", \"Grenada\", \"Central\", \"Turks\", \"Gibraltar\", \"American\", \"Sierra\", \"Saint\", \"Saint\", \"Timor-Leste\", \"Equatorial\", \"Samoa\", \"Dominica\", \"Western\", \"Solomon\", \"Sao\", \"British\", \"Vanuatu\", \"Guinea-Bissau\", \"Tonga\", \"Saint\", \"Comoros\", \"Cook\", \"Kiribati\", \"Montserrat\", \"Nauru\", \"Falkland\", \"Saint\", \"Niue\", \"Gaza\", \"Malta\", \"Northern\"], \"type\": \"choropleth\", \"z\": [5523000000000.0, 3832000000000.0, 2771000000000.0, 1065000000000.0, 921000000000.0, 864700000000.0, 540100000000.0, 511000000000.0, 483500000000.0, 482400000000.0, 451100000000.0, 319100000000.0, 303100000000.0, 249500000000.0, 243100000000.0, 234000000000.0, 231600000000.0, 222600000000.0, 211600000000.0, 197000000000.0, 195300000000.0, 167500000000.0, 159800000000.0, 155900000000.0, 139000000000.0, 135600000000.0, 130500000000.0, 126400000000.0, 118500000000.0, 117100000000.0, 116800000000.0, 108300000000.0, 97690000000.0, 93280000000.0, 82040000000.0, 81890000000.0, 80290000000.0, 78890000000.0, 75270000000.0, 69750000000.0, 63390000000.0, 60550000000.0, 59830000000.0, 58010000000.0, 57730000000.0, 53410000000.0, 50730000000.0, 50000000000.0, 49380000000.0, 47180000000.0, 46250000000.0, 45210000000.0, 44210000000.0, 42870000000.0, 41520000000.0, 40300000000.0, 37990000000.0, 37880000000.0, 35690000000.0, 31960000000.0, 30530000000.0, 28360000000.0, 27540000000.0, 26910000000.0, 26700000000.0, 25700000000.0, 24780000000.0, 24240000000.0, 21550000000.0, 20360000000.0, 19020000000.0, 18620000000.0, 17790000000.0, 16970000000.0, 16940000000.0, 16200000000.0, 16000000000.0, 15140000000.0, 14560000000.0, 14420000000.0, 13310000000.0, 13020000000.0, 12940000000.0, 12560000000.0, 11750000000.0, 11690000000.0, 11280000000.0, 10580000000.0, 10170000000.0, 9943000000.0, 9664000000.0, 9559000000.0, 8987000000.0, 8915000000.0, 8468000000.0, 8365000000.0, 8327000000.0, 8125000000.0, 7793000000.0, 7765000000.0, 7417000000.0, 7292000000.0, 7144000000.0, 7141000000.0, 6960000000.0, 6831000000.0, 6627000000.0, 6456000000.0, 6108000000.0, 5665000000.0, 5665000000.0, 5535000000.0, 5312000000.0, 5227000000.0, 5043000000.0, 5036000000.0, 4842000000.0, 4731000000.0, 4545000000.0, 4412000000.0, 4305000000.0, 4296000000.0, 4291000000.0, 4238000000.0, 4204000000.0, 3893000000.0, 3838000000.0, 3766000000.0, 3553000000.0, 3465000000.0, 3239000000.0, 3213000000.0, 3116000000.0, 3008000000.0, 2887000000.0, 2874000000.0, 2821000000.0, 2716000000.0, 2658000000.0, 2586000000.0, 2085000000.0, 2027000000.0, 1883000000.0, 1716000000.0, 1680000000.0, 1572000000.0, 1566000000.0, 1360000000.0, 1295000000.0, 985500000.0, 976000000.0, 968000000.0, 962600000.0, 938000000.0, 930200000.0, 920700000.0, 911000000.0, 903000000.0, 882600000.0, 777600000.0, 740000000.0, 723500000.0, 707000000.0, 694100000.0, 664200000.0, 652900000.0, 630100000.0, 605000000.0, 562400000.0, 558000000.0, 545900000.0, 452000000.0, 365500000.0, 336400000.0, 311600000.0, 293900000.0, 293000000.0, 293000000.0, 292000000.0, 285500000.0, 284000000.0, 282900000.0, 276900000.0, 267100000.0, 261300000.0, 218600000.0, 190700000.0, 178600000.0, 178000000.0, 168300000.0, 167400000.0, 160000000.0, 146000000.0, 134900000.0, 130200000.0, 127400000.0, 125300000.0, 93000000.0, 90400000.0, 89750000.0, 83700000.0, 79050000.0, 60450000.0, 51150000.0, 49290000.0, 46500000.0, 44640000.0, 39990000.0, 39990000.0, 28950000.0, 24180000.0, 23250000.0, 23250000.0, 11160000.0, 7440000.0, 2790000.0, 202000.0, 174700.0, 48300.0]}],                        {\"geo\": {\"projection\": {\"type\": \"mercator\"}, \"showframe\": false}, \"template\": {\"data\": {\"bar\": [{\"error_x\": {\"color\": \"#2a3f5f\"}, \"error_y\": {\"color\": \"#2a3f5f\"}, \"marker\": {\"line\": {\"color\": \"#E5ECF6\", \"width\": 0.5}}, \"type\": \"bar\"}], \"barpolar\": [{\"marker\": {\"line\": {\"color\": \"#E5ECF6\", \"width\": 0.5}}, \"type\": \"barpolar\"}], \"carpet\": [{\"aaxis\": {\"endlinecolor\": \"#2a3f5f\", \"gridcolor\": \"white\", \"linecolor\": \"white\", \"minorgridcolor\": \"white\", \"startlinecolor\": \"#2a3f5f\"}, \"baxis\": {\"endlinecolor\": \"#2a3f5f\", \"gridcolor\": \"white\", \"linecolor\": \"white\", \"minorgridcolor\": \"white\", \"startlinecolor\": \"#2a3f5f\"}, \"type\": \"carpet\"}], \"choropleth\": [{\"colorbar\": {\"outlinewidth\": 0, \"ticks\": \"\"}, \"type\": \"choropleth\"}], \"contour\": [{\"colorbar\": {\"outlinewidth\": 0, \"ticks\": \"\"}, \"colorscale\": [[0.0, \"#0d0887\"], [0.1111111111111111, \"#46039f\"], [0.2222222222222222, \"#7201a8\"], [0.3333333333333333, \"#9c179e\"], [0.4444444444444444, \"#bd3786\"], [0.5555555555555556, \"#d8576b\"], [0.6666666666666666, \"#ed7953\"], [0.7777777777777778, \"#fb9f3a\"], [0.8888888888888888, \"#fdca26\"], [1.0, \"#f0f921\"]], \"type\": \"contour\"}], \"contourcarpet\": [{\"colorbar\": {\"outlinewidth\": 0, \"ticks\": \"\"}, \"type\": \"contourcarpet\"}], \"heatmap\": [{\"colorbar\": {\"outlinewidth\": 0, \"ticks\": \"\"}, \"colorscale\": [[0.0, \"#0d0887\"], [0.1111111111111111, \"#46039f\"], [0.2222222222222222, \"#7201a8\"], [0.3333333333333333, \"#9c179e\"], [0.4444444444444444, \"#bd3786\"], [0.5555555555555556, \"#d8576b\"], [0.6666666666666666, \"#ed7953\"], [0.7777777777777778, \"#fb9f3a\"], [0.8888888888888888, \"#fdca26\"], [1.0, \"#f0f921\"]], \"type\": \"heatmap\"}], \"heatmapgl\": [{\"colorbar\": {\"outlinewidth\": 0, \"ticks\": \"\"}, \"colorscale\": [[0.0, \"#0d0887\"], [0.1111111111111111, \"#46039f\"], [0.2222222222222222, \"#7201a8\"], [0.3333333333333333, \"#9c179e\"], [0.4444444444444444, \"#bd3786\"], [0.5555555555555556, \"#d8576b\"], [0.6666666666666666, \"#ed7953\"], [0.7777777777777778, \"#fb9f3a\"], [0.8888888888888888, \"#fdca26\"], [1.0, \"#f0f921\"]], \"type\": \"heatmapgl\"}], \"histogram\": [{\"marker\": {\"colorbar\": {\"outlinewidth\": 0, \"ticks\": \"\"}}, \"type\": \"histogram\"}], \"histogram2d\": [{\"colorbar\": {\"outlinewidth\": 0, \"ticks\": \"\"}, \"colorscale\": [[0.0, \"#0d0887\"], [0.1111111111111111, \"#46039f\"], [0.2222222222222222, \"#7201a8\"], [0.3333333333333333, \"#9c179e\"], [0.4444444444444444, \"#bd3786\"], [0.5555555555555556, \"#d8576b\"], [0.6666666666666666, \"#ed7953\"], [0.7777777777777778, \"#fb9f3a\"], [0.8888888888888888, \"#fdca26\"], [1.0, \"#f0f921\"]], \"type\": \"histogram2d\"}], \"histogram2dcontour\": [{\"colorbar\": {\"outlinewidth\": 0, \"ticks\": \"\"}, \"colorscale\": [[0.0, \"#0d0887\"], [0.1111111111111111, \"#46039f\"], [0.2222222222222222, \"#7201a8\"], [0.3333333333333333, \"#9c179e\"], [0.4444444444444444, \"#bd3786\"], [0.5555555555555556, \"#d8576b\"], [0.6666666666666666, \"#ed7953\"], [0.7777777777777778, \"#fb9f3a\"], [0.8888888888888888, \"#fdca26\"], [1.0, \"#f0f921\"]], \"type\": \"histogram2dcontour\"}], \"mesh3d\": [{\"colorbar\": {\"outlinewidth\": 0, \"ticks\": \"\"}, \"type\": \"mesh3d\"}], \"parcoords\": [{\"line\": {\"colorbar\": {\"outlinewidth\": 0, \"ticks\": \"\"}}, \"type\": \"parcoords\"}], \"pie\": [{\"automargin\": true, \"type\": \"pie\"}], \"scatter\": [{\"marker\": {\"colorbar\": {\"outlinewidth\": 0, \"ticks\": \"\"}}, \"type\": \"scatter\"}], \"scatter3d\": [{\"line\": {\"colorbar\": {\"outlinewidth\": 0, \"ticks\": \"\"}}, \"marker\": {\"colorbar\": {\"outlinewidth\": 0, \"ticks\": \"\"}}, \"type\": \"scatter3d\"}], \"scattercarpet\": [{\"marker\": {\"colorbar\": {\"outlinewidth\": 0, \"ticks\": \"\"}}, \"type\": \"scattercarpet\"}], \"scattergeo\": [{\"marker\": {\"colorbar\": {\"outlinewidth\": 0, \"ticks\": \"\"}}, \"type\": \"scattergeo\"}], \"scattergl\": [{\"marker\": {\"colorbar\": {\"outlinewidth\": 0, \"ticks\": \"\"}}, \"type\": \"scattergl\"}], \"scattermapbox\": [{\"marker\": {\"colorbar\": {\"outlinewidth\": 0, \"ticks\": \"\"}}, \"type\": \"scattermapbox\"}], \"scatterpolar\": [{\"marker\": {\"colorbar\": {\"outlinewidth\": 0, \"ticks\": \"\"}}, \"type\": \"scatterpolar\"}], \"scatterpolargl\": [{\"marker\": {\"colorbar\": {\"outlinewidth\": 0, \"ticks\": \"\"}}, \"type\": \"scatterpolargl\"}], \"scatterternary\": [{\"marker\": {\"colorbar\": {\"outlinewidth\": 0, \"ticks\": \"\"}}, \"type\": \"scatterternary\"}], \"surface\": [{\"colorbar\": {\"outlinewidth\": 0, \"ticks\": \"\"}, \"colorscale\": [[0.0, \"#0d0887\"], [0.1111111111111111, \"#46039f\"], [0.2222222222222222, \"#7201a8\"], [0.3333333333333333, \"#9c179e\"], [0.4444444444444444, \"#bd3786\"], [0.5555555555555556, \"#d8576b\"], [0.6666666666666666, \"#ed7953\"], [0.7777777777777778, \"#fb9f3a\"], [0.8888888888888888, \"#fdca26\"], [1.0, \"#f0f921\"]], \"type\": \"surface\"}], \"table\": [{\"cells\": {\"fill\": {\"color\": \"#EBF0F8\"}, \"line\": {\"color\": \"white\"}}, \"header\": {\"fill\": {\"color\": \"#C8D4E3\"}, \"line\": {\"color\": \"white\"}}, \"type\": \"table\"}]}, \"layout\": {\"annotationdefaults\": {\"arrowcolor\": \"#2a3f5f\", \"arrowhead\": 0, \"arrowwidth\": 1}, \"autotypenumbers\": \"strict\", \"coloraxis\": {\"colorbar\": {\"outlinewidth\": 0, \"ticks\": \"\"}}, \"colorscale\": {\"diverging\": [[0, \"#8e0152\"], [0.1, \"#c51b7d\"], [0.2, \"#de77ae\"], [0.3, \"#f1b6da\"], [0.4, \"#fde0ef\"], [0.5, \"#f7f7f7\"], [0.6, \"#e6f5d0\"], [0.7, \"#b8e186\"], [0.8, \"#7fbc41\"], [0.9, \"#4d9221\"], [1, \"#276419\"]], \"sequential\": [[0.0, \"#0d0887\"], [0.1111111111111111, \"#46039f\"], [0.2222222222222222, \"#7201a8\"], [0.3333333333333333, \"#9c179e\"], [0.4444444444444444, \"#bd3786\"], [0.5555555555555556, \"#d8576b\"], [0.6666666666666666, \"#ed7953\"], [0.7777777777777778, \"#fb9f3a\"], [0.8888888888888888, \"#fdca26\"], [1.0, \"#f0f921\"]], \"sequentialminus\": [[0.0, \"#0d0887\"], [0.1111111111111111, \"#46039f\"], [0.2222222222222222, \"#7201a8\"], [0.3333333333333333, \"#9c179e\"], [0.4444444444444444, \"#bd3786\"], [0.5555555555555556, \"#d8576b\"], [0.6666666666666666, \"#ed7953\"], [0.7777777777777778, \"#fb9f3a\"], [0.8888888888888888, \"#fdca26\"], [1.0, \"#f0f921\"]]}, \"colorway\": [\"#636efa\", \"#EF553B\", \"#00cc96\", \"#ab63fa\", \"#FFA15A\", \"#19d3f3\", \"#FF6692\", \"#B6E880\", \"#FF97FF\", \"#FECB52\"], \"font\": {\"color\": \"#2a3f5f\"}, \"geo\": {\"bgcolor\": \"white\", \"lakecolor\": \"white\", \"landcolor\": \"#E5ECF6\", \"showlakes\": true, \"showland\": true, \"subunitcolor\": \"white\"}, \"hoverlabel\": {\"align\": \"left\"}, \"hovermode\": \"closest\", \"mapbox\": {\"style\": \"light\"}, \"paper_bgcolor\": \"white\", \"plot_bgcolor\": \"#E5ECF6\", \"polar\": {\"angularaxis\": {\"gridcolor\": \"white\", \"linecolor\": \"white\", \"ticks\": \"\"}, \"bgcolor\": \"#E5ECF6\", \"radialaxis\": {\"gridcolor\": \"white\", \"linecolor\": \"white\", \"ticks\": \"\"}}, \"scene\": {\"xaxis\": {\"backgroundcolor\": \"#E5ECF6\", \"gridcolor\": \"white\", \"gridwidth\": 2, \"linecolor\": \"white\", \"showbackground\": true, \"ticks\": \"\", \"zerolinecolor\": \"white\"}, \"yaxis\": {\"backgroundcolor\": \"#E5ECF6\", \"gridcolor\": \"white\", \"gridwidth\": 2, \"linecolor\": \"white\", \"showbackground\": true, \"ticks\": \"\", \"zerolinecolor\": \"white\"}, \"zaxis\": {\"backgroundcolor\": \"#E5ECF6\", \"gridcolor\": \"white\", \"gridwidth\": 2, \"linecolor\": \"white\", \"showbackground\": true, \"ticks\": \"\", \"zerolinecolor\": \"white\"}}, \"shapedefaults\": {\"line\": {\"color\": \"#2a3f5f\"}}, \"ternary\": {\"aaxis\": {\"gridcolor\": \"white\", \"linecolor\": \"white\", \"ticks\": \"\"}, \"baxis\": {\"gridcolor\": \"white\", \"linecolor\": \"white\", \"ticks\": \"\"}, \"bgcolor\": \"#E5ECF6\", \"caxis\": {\"gridcolor\": \"white\", \"linecolor\": \"white\", \"ticks\": \"\"}}, \"title\": {\"x\": 0.05}, \"xaxis\": {\"automargin\": true, \"gridcolor\": \"white\", \"linecolor\": \"white\", \"ticks\": \"\", \"title\": {\"standoff\": 15}, \"zerolinecolor\": \"white\", \"zerolinewidth\": 2}, \"yaxis\": {\"automargin\": true, \"gridcolor\": \"white\", \"linecolor\": \"white\", \"ticks\": \"\", \"title\": {\"standoff\": 15}, \"zerolinecolor\": \"white\", \"zerolinewidth\": 2}}}, \"title\": {\"text\": \"2014 Power Consumption KWH\"}},                        {\"responsive\": true}                    ).then(function(){\n",
       "                            \n",
       "var gd = document.getElementById('6c79608e-2274-4880-941d-bb515d00cc92');\n",
       "var x = new MutationObserver(function (mutations, observer) {{\n",
       "        var display = window.getComputedStyle(gd).display;\n",
       "        if (!display || display === 'none') {{\n",
       "            console.log([gd, 'removed!']);\n",
       "            Plotly.purge(gd);\n",
       "            observer.disconnect();\n",
       "        }}\n",
       "}});\n",
       "\n",
       "// Listen for the removal of the full notebook cells\n",
       "var notebookContainer = gd.closest('#notebook-container');\n",
       "if (notebookContainer) {{\n",
       "    x.observe(notebookContainer, {childList: true});\n",
       "}}\n",
       "\n",
       "// Listen for the clearing of the current output cell\n",
       "var outputEl = gd.closest('.output');\n",
       "if (outputEl) {{\n",
       "    x.observe(outputEl, {childList: true});\n",
       "}}\n",
       "\n",
       "                        })                };                });            </script>        </div>"
      ]
     },
     "metadata": {},
     "output_type": "display_data"
    }
   ],
   "source": [
    "choromap=go.Figure(data=[data],layout=layout)\n",
    "iplot(choromap,validate=False)"
   ]
  },
  {
   "cell_type": "markdown",
   "metadata": {},
   "source": [
    "# Mars Tickets"
   ]
  },
  {
   "cell_type": "code",
   "execution_count": 9,
   "metadata": {},
   "outputs": [],
   "source": [
    "df2=pd.read_clipboard(header=None) # ctrl+c datas"
   ]
  },
  {
   "cell_type": "code",
   "execution_count": 10,
   "metadata": {},
   "outputs": [],
   "source": [
    "df2.columns=[\"Country\",\"Number_of_Tickets\"]"
   ]
  },
  {
   "cell_type": "code",
   "execution_count": 11,
   "metadata": {},
   "outputs": [
    {
     "data": {
      "text/html": [
       "<div>\n",
       "<style scoped>\n",
       "    .dataframe tbody tr th:only-of-type {\n",
       "        vertical-align: middle;\n",
       "    }\n",
       "\n",
       "    .dataframe tbody tr th {\n",
       "        vertical-align: top;\n",
       "    }\n",
       "\n",
       "    .dataframe thead th {\n",
       "        text-align: right;\n",
       "    }\n",
       "</style>\n",
       "<table border=\"1\" class=\"dataframe\">\n",
       "  <thead>\n",
       "    <tr style=\"text-align: right;\">\n",
       "      <th></th>\n",
       "      <th>Country</th>\n",
       "      <th>Number_of_Tickets</th>\n",
       "    </tr>\n",
       "  </thead>\n",
       "  <tbody>\n",
       "    <tr>\n",
       "      <th>0</th>\n",
       "      <td>CHINA</td>\n",
       "      <td>4,056,767</td>\n",
       "    </tr>\n",
       "    <tr>\n",
       "      <th>1</th>\n",
       "      <td>UNITED STATES</td>\n",
       "      <td>2,699,594</td>\n",
       "    </tr>\n",
       "    <tr>\n",
       "      <th>2</th>\n",
       "      <td>PHILIPPINES</td>\n",
       "      <td>2,213,476</td>\n",
       "    </tr>\n",
       "    <tr>\n",
       "      <th>3</th>\n",
       "      <td>UNITED KINGDOM</td>\n",
       "      <td>1,060,166</td>\n",
       "    </tr>\n",
       "    <tr>\n",
       "      <th>4</th>\n",
       "      <td>RUSSIA</td>\n",
       "      <td>730,911</td>\n",
       "    </tr>\n",
       "    <tr>\n",
       "      <th>...</th>\n",
       "      <td>...</td>\n",
       "      <td>...</td>\n",
       "    </tr>\n",
       "    <tr>\n",
       "      <th>249</th>\n",
       "      <td>SVALBARD &amp; JAN MAYEN</td>\n",
       "      <td>82</td>\n",
       "    </tr>\n",
       "    <tr>\n",
       "      <th>250</th>\n",
       "      <td>NAURU</td>\n",
       "      <td>82</td>\n",
       "    </tr>\n",
       "    <tr>\n",
       "      <th>251</th>\n",
       "      <td>NIUE</td>\n",
       "      <td>80</td>\n",
       "    </tr>\n",
       "    <tr>\n",
       "      <th>252</th>\n",
       "      <td>TRISTAN DA CUNHA</td>\n",
       "      <td>60</td>\n",
       "    </tr>\n",
       "    <tr>\n",
       "      <th>253</th>\n",
       "      <td>PSEUDO-BIDI</td>\n",
       "      <td>1</td>\n",
       "    </tr>\n",
       "  </tbody>\n",
       "</table>\n",
       "<p>254 rows × 2 columns</p>\n",
       "</div>"
      ],
      "text/plain": [
       "                  Country Number_of_Tickets\n",
       "0                   CHINA         4,056,767\n",
       "1           UNITED STATES         2,699,594\n",
       "2             PHILIPPINES         2,213,476\n",
       "3          UNITED KINGDOM         1,060,166\n",
       "4                  RUSSIA           730,911\n",
       "..                    ...               ...\n",
       "249  SVALBARD & JAN MAYEN                82\n",
       "250                 NAURU                82\n",
       "251                  NIUE                80\n",
       "252      TRISTAN DA CUNHA                60\n",
       "253           PSEUDO-BIDI                 1\n",
       "\n",
       "[254 rows x 2 columns]"
      ]
     },
     "execution_count": 11,
     "metadata": {},
     "output_type": "execute_result"
    }
   ],
   "source": [
    "df2"
   ]
  },
  {
   "cell_type": "code",
   "execution_count": 12,
   "metadata": {},
   "outputs": [],
   "source": [
    "df2[\"Number_of_Tickets\"]=df2[\"Number_of_Tickets\"].str.replace(\",\",\"\")"
   ]
  },
  {
   "cell_type": "code",
   "execution_count": 13,
   "metadata": {},
   "outputs": [],
   "source": [
    "data2 = dict(\n",
    "        type = 'choropleth',\n",
    "        colorscale = 'Viridis',\n",
    "        reversescale = True,\n",
    "        locations = df2['Country'],\n",
    "        locationmode = \"country names\",\n",
    "        z = df2['Number_of_Tickets'],\n",
    "        text = df2['Country'],\n",
    "        colorbar = {'title' : 'Mars Tickets'},\n",
    "      )\n",
    "layout = dict(title = 'Mars Tickets',\n",
    "                geo = dict(showframe = False,projection = {'type':'mercator'})\n",
    "             )"
   ]
  },
  {
   "cell_type": "code",
   "execution_count": 14,
   "metadata": {},
   "outputs": [
    {
     "data": {
      "application/vnd.plotly.v1+json": {
       "config": {
        "linkText": "Export to plot.ly",
        "plotlyServerURL": "https://plot.ly",
        "showLink": false
       },
       "data": [
        {
         "colorbar": {
          "title": {
           "text": "Mars Tickets"
          }
         },
         "colorscale": [
          [
           0,
           "#440154"
          ],
          [
           0.1111111111111111,
           "#482878"
          ],
          [
           0.2222222222222222,
           "#3e4989"
          ],
          [
           0.3333333333333333,
           "#31688e"
          ],
          [
           0.4444444444444444,
           "#26828e"
          ],
          [
           0.5555555555555556,
           "#1f9e89"
          ],
          [
           0.6666666666666666,
           "#35b779"
          ],
          [
           0.7777777777777778,
           "#6ece58"
          ],
          [
           0.8888888888888888,
           "#b5de2b"
          ],
          [
           1,
           "#fde725"
          ]
         ],
         "locationmode": "country names",
         "locations": [
          "CHINA",
          "UNITED STATES",
          "PHILIPPINES",
          "UNITED KINGDOM",
          "RUSSIA",
          "ITALY",
          "BRAZIL",
          "MEXICO",
          "FRANCE",
          "INDIA",
          "INDONESIA",
          "SPAIN",
          "UKRAINE",
          "CANADA",
          "MALAYSIA",
          "SOUTH KOREA",
          "GERMANY",
          "AUSTRALIA",
          "KAZAKHSTAN",
          "PERU",
          "POLAND",
          "COLOMBIA",
          "TURKEY",
          "ARGENTINA",
          "CHILE",
          "CZECHIA",
          "ECUADOR",
          "TAIWAN",
          "IRELAND",
          "IRAN",
          "VIETNAM",
          "HONG KONG SAR CHINA",
          "THAILAND",
          "SWEDEN",
          "ROMANIA",
          "PORTUGAL",
          "BELARUS",
          "BELGIUM",
          "BANGLADESH",
          "GREECE",
          "AFGHANISTAN",
          "NETHERLANDS",
          "SOUTH AFRICA",
          "EGYPT",
          "HUNGARY",
          "ALBANIA",
          "ALGERIA",
          "COSTA RICA",
          "SAUDI ARABIA",
          "AUSTRIA",
          "ARMENIA",
          "UNITED ARAB EMIRATES",
          "UZBEKISTAN",
          "JAPAN",
          "SLOVAKIA",
          "NEW ZEALAND",
          "ISRAEL",
          "SWITZERLAND",
          "SINGAPORE",
          "AZERBAIJAN",
          "SERBIA",
          "BOLIVIA",
          "AMERICAN SAMOA",
          "VENEZUELA",
          "CROATIA",
          "GUATEMALA",
          "NORWAY",
          "ANDORRA",
          "KYRGYZSTAN",
          "IRAQ",
          "DENMARK",
          "MOROCCO",
          "MOLDOVA",
          "PAKISTAN",
          "FINLAND",
          "PUERTO RICO",
          "BULGARIA",
          "LITHUANIA",
          "LEBANON",
          "EL SALVADOR",
          "HONDURAS",
          "GEORGIA",
          "BOSNIA & HERZEGOVINA",
          "PANAMA",
          "LATVIA",
          "DOMINICAN REPUBLIC",
          "ANGOLA",
          "NEPAL",
          "JORDAN",
          "SRI LANKA",
          "TUNISIA",
          "URUGUAY",
          "TRINIDAD & TOBAGO",
          "PARAGUAY",
          "ESTONIA",
          "ANGUILLA",
          "MYANMAR (BURMA)",
          "ANTARCTICA",
          "SLOVENIA",
          "BAHRAIN",
          "NICARAGUA",
          "CYPRUS",
          "NORTH KOREA",
          "KUWAIT",
          "NORTH MACEDONIA",
          "ARUBA",
          "BAHAMAS",
          "KOSOVO",
          "MACAO SAR CHINA",
          "ASCENSION ISLAND",
          "CANARY ISLANDS",
          "ANTIGUA & BARBUDA",
          "SYRIA",
          "QATAR",
          "CAMBODIA",
          "MALTA",
          "NIGERIA",
          "GUYANA",
          "MALDIVES",
          "OMAN",
          "BRUNEI",
          "PALESTINIAN TERRITORIES",
          "KENYA",
          "MONTENEGRO",
          "MAURITIUS",
          "CHRISTMAS ISLAND",
          "LUXEMBOURG",
          "BELIZE",
          "ICELAND",
          "ZIMBABWE",
          "CUBA",
          "MONGOLIA",
          "YEMEN",
          "LIBYA",
          "RÉUNION",
          "GHANA",
          "JAMAICA",
          "BRITISH VIRGIN ISLANDS",
          "SUDAN",
          "BARBADOS",
          "BHUTAN",
          "TAJIKISTAN",
          "TURKMENISTAN",
          "ETHIOPIA",
          "GUAM",
          "BERMUDA",
          "FRENCH POLYNESIA",
          "FIJI",
          "BOTSWANA",
          "CHAD",
          "BRITISH INDIAN OCEAN TERRITORY",
          "ISLE OF MAN",
          "JERSEY",
          "MADAGASCAR",
          "CARIBBEAN NETHERLANDS",
          "BENIN",
          "SURINAME",
          "CAPE VERDE",
          "CAMEROON",
          "ZAMBIA",
          "CAYMAN ISLANDS",
          "CEUTA & MELILLA",
          "NIGER",
          "UGANDA",
          "CENTRAL AFRICAN REPUBLIC",
          "BURUNDI",
          "CÔTE D’IVOIRE",
          "GUERNSEY",
          "GUADELOUPE",
          "MONACO",
          "GIBRALTAR",
          "FRENCH GUIANA",
          "DOMINICA",
          "BURKINA FASO",
          "TANZANIA",
          "LAOS",
          "MOZAMBIQUE",
          "U.S. VIRGIN ISLANDS",
          "NORTHERN MARIANA ISLANDS",
          "SENEGAL",
          "FRENCH SOUTHERN TERRITORIES",
          "CURAÇAO",
          "MARTINIQUE",
          "COCOS (KEELING) ISLANDS",
          "NEW CALEDONIA",
          "NAMIBIA",
          "VATICAN CITY",
          "SOMALIA",
          "GREENLAND",
          "CONGO - KINSHASA",
          "HAITI",
          "RWANDA",
          "PITCAIRN ISLANDS",
          "SOUTH SUDAN",
          "EQUATORIAL GUINEA",
          "COMOROS",
          "CONGO - BRAZZAVILLE",
          "COOK ISLANDS",
          "GABON",
          "SAN MARINO",
          "GRENADA",
          "MALI",
          "ERITREA",
          "MALAWI",
          "MARSHALL ISLANDS",
          "DJIBOUTI",
          "SAMOA",
          "ESWATINI",
          "DIEGO GARCIA",
          "MAURITANIA",
          "FAROE ISLANDS",
          "PAPUA NEW GUINEA",
          "U.S. OUTLYING ISLANDS",
          "LIECHTENSTEIN",
          "VANUATU",
          "MAYOTTE",
          "WALLIS & FUTUNA",
          "SINT MAARTEN",
          "GUINEA",
          "GAMBIA",
          "LIBERIA",
          "TOGO",
          "PALAU",
          "MICRONESIA",
          "TURKS & CAICOS ISLANDS",
          "ST. MARTIN",
          "ST. LUCIA",
          "FALKLAND ISLANDS",
          "WESTERN SAHARA",
          "SOUTH GEORGIA & SOUTH SANDWICH ISLANDS",
          "SIERRA LEONE",
          "SEYCHELLES",
          "TIMOR-LESTE",
          "ST. VINCENT & GRENADINES",
          "MONTSERRAT",
          "LESOTHO",
          "TONGA",
          "ST. PIERRE & MIQUELON",
          "ST. KITTS & NEVIS",
          "SÃO TOMÉ & PRÍNCIPE",
          "KIRIBATI",
          "ÅLAND ISLANDS",
          "GUINEA-BISSAU",
          "SOLOMON ISLANDS",
          "TUVALU",
          "ST. HELENA",
          "ST. BARTHÉLEMY",
          "NORFOLK ISLAND",
          "TOKELAU",
          "SVALBARD & JAN MAYEN",
          "NAURU",
          "NIUE",
          "TRISTAN DA CUNHA",
          "PSEUDO-BIDI"
         ],
         "reversescale": true,
         "text": [
          "CHINA",
          "UNITED STATES",
          "PHILIPPINES",
          "UNITED KINGDOM",
          "RUSSIA",
          "ITALY",
          "BRAZIL",
          "MEXICO",
          "FRANCE",
          "INDIA",
          "INDONESIA",
          "SPAIN",
          "UKRAINE",
          "CANADA",
          "MALAYSIA",
          "SOUTH KOREA",
          "GERMANY",
          "AUSTRALIA",
          "KAZAKHSTAN",
          "PERU",
          "POLAND",
          "COLOMBIA",
          "TURKEY",
          "ARGENTINA",
          "CHILE",
          "CZECHIA",
          "ECUADOR",
          "TAIWAN",
          "IRELAND",
          "IRAN",
          "VIETNAM",
          "HONG KONG SAR CHINA",
          "THAILAND",
          "SWEDEN",
          "ROMANIA",
          "PORTUGAL",
          "BELARUS",
          "BELGIUM",
          "BANGLADESH",
          "GREECE",
          "AFGHANISTAN",
          "NETHERLANDS",
          "SOUTH AFRICA",
          "EGYPT",
          "HUNGARY",
          "ALBANIA",
          "ALGERIA",
          "COSTA RICA",
          "SAUDI ARABIA",
          "AUSTRIA",
          "ARMENIA",
          "UNITED ARAB EMIRATES",
          "UZBEKISTAN",
          "JAPAN",
          "SLOVAKIA",
          "NEW ZEALAND",
          "ISRAEL",
          "SWITZERLAND",
          "SINGAPORE",
          "AZERBAIJAN",
          "SERBIA",
          "BOLIVIA",
          "AMERICAN SAMOA",
          "VENEZUELA",
          "CROATIA",
          "GUATEMALA",
          "NORWAY",
          "ANDORRA",
          "KYRGYZSTAN",
          "IRAQ",
          "DENMARK",
          "MOROCCO",
          "MOLDOVA",
          "PAKISTAN",
          "FINLAND",
          "PUERTO RICO",
          "BULGARIA",
          "LITHUANIA",
          "LEBANON",
          "EL SALVADOR",
          "HONDURAS",
          "GEORGIA",
          "BOSNIA & HERZEGOVINA",
          "PANAMA",
          "LATVIA",
          "DOMINICAN REPUBLIC",
          "ANGOLA",
          "NEPAL",
          "JORDAN",
          "SRI LANKA",
          "TUNISIA",
          "URUGUAY",
          "TRINIDAD & TOBAGO",
          "PARAGUAY",
          "ESTONIA",
          "ANGUILLA",
          "MYANMAR (BURMA)",
          "ANTARCTICA",
          "SLOVENIA",
          "BAHRAIN",
          "NICARAGUA",
          "CYPRUS",
          "NORTH KOREA",
          "KUWAIT",
          "NORTH MACEDONIA",
          "ARUBA",
          "BAHAMAS",
          "KOSOVO",
          "MACAO SAR CHINA",
          "ASCENSION ISLAND",
          "CANARY ISLANDS",
          "ANTIGUA & BARBUDA",
          "SYRIA",
          "QATAR",
          "CAMBODIA",
          "MALTA",
          "NIGERIA",
          "GUYANA",
          "MALDIVES",
          "OMAN",
          "BRUNEI",
          "PALESTINIAN TERRITORIES",
          "KENYA",
          "MONTENEGRO",
          "MAURITIUS",
          "CHRISTMAS ISLAND",
          "LUXEMBOURG",
          "BELIZE",
          "ICELAND",
          "ZIMBABWE",
          "CUBA",
          "MONGOLIA",
          "YEMEN",
          "LIBYA",
          "RÉUNION",
          "GHANA",
          "JAMAICA",
          "BRITISH VIRGIN ISLANDS",
          "SUDAN",
          "BARBADOS",
          "BHUTAN",
          "TAJIKISTAN",
          "TURKMENISTAN",
          "ETHIOPIA",
          "GUAM",
          "BERMUDA",
          "FRENCH POLYNESIA",
          "FIJI",
          "BOTSWANA",
          "CHAD",
          "BRITISH INDIAN OCEAN TERRITORY",
          "ISLE OF MAN",
          "JERSEY",
          "MADAGASCAR",
          "CARIBBEAN NETHERLANDS",
          "BENIN",
          "SURINAME",
          "CAPE VERDE",
          "CAMEROON",
          "ZAMBIA",
          "CAYMAN ISLANDS",
          "CEUTA & MELILLA",
          "NIGER",
          "UGANDA",
          "CENTRAL AFRICAN REPUBLIC",
          "BURUNDI",
          "CÔTE D’IVOIRE",
          "GUERNSEY",
          "GUADELOUPE",
          "MONACO",
          "GIBRALTAR",
          "FRENCH GUIANA",
          "DOMINICA",
          "BURKINA FASO",
          "TANZANIA",
          "LAOS",
          "MOZAMBIQUE",
          "U.S. VIRGIN ISLANDS",
          "NORTHERN MARIANA ISLANDS",
          "SENEGAL",
          "FRENCH SOUTHERN TERRITORIES",
          "CURAÇAO",
          "MARTINIQUE",
          "COCOS (KEELING) ISLANDS",
          "NEW CALEDONIA",
          "NAMIBIA",
          "VATICAN CITY",
          "SOMALIA",
          "GREENLAND",
          "CONGO - KINSHASA",
          "HAITI",
          "RWANDA",
          "PITCAIRN ISLANDS",
          "SOUTH SUDAN",
          "EQUATORIAL GUINEA",
          "COMOROS",
          "CONGO - BRAZZAVILLE",
          "COOK ISLANDS",
          "GABON",
          "SAN MARINO",
          "GRENADA",
          "MALI",
          "ERITREA",
          "MALAWI",
          "MARSHALL ISLANDS",
          "DJIBOUTI",
          "SAMOA",
          "ESWATINI",
          "DIEGO GARCIA",
          "MAURITANIA",
          "FAROE ISLANDS",
          "PAPUA NEW GUINEA",
          "U.S. OUTLYING ISLANDS",
          "LIECHTENSTEIN",
          "VANUATU",
          "MAYOTTE",
          "WALLIS & FUTUNA",
          "SINT MAARTEN",
          "GUINEA",
          "GAMBIA",
          "LIBERIA",
          "TOGO",
          "PALAU",
          "MICRONESIA",
          "TURKS & CAICOS ISLANDS",
          "ST. MARTIN",
          "ST. LUCIA",
          "FALKLAND ISLANDS",
          "WESTERN SAHARA",
          "SOUTH GEORGIA & SOUTH SANDWICH ISLANDS",
          "SIERRA LEONE",
          "SEYCHELLES",
          "TIMOR-LESTE",
          "ST. VINCENT & GRENADINES",
          "MONTSERRAT",
          "LESOTHO",
          "TONGA",
          "ST. PIERRE & MIQUELON",
          "ST. KITTS & NEVIS",
          "SÃO TOMÉ & PRÍNCIPE",
          "KIRIBATI",
          "ÅLAND ISLANDS",
          "GUINEA-BISSAU",
          "SOLOMON ISLANDS",
          "TUVALU",
          "ST. HELENA",
          "ST. BARTHÉLEMY",
          "NORFOLK ISLAND",
          "TOKELAU",
          "SVALBARD & JAN MAYEN",
          "NAURU",
          "NIUE",
          "TRISTAN DA CUNHA",
          "PSEUDO-BIDI"
         ],
         "type": "choropleth",
         "z": [
          "4056767",
          "2699594",
          "2213476",
          "1060166",
          "730911",
          "691842",
          "682165",
          "531393",
          "336963",
          "328236",
          "308512",
          "267428",
          "259108",
          "252897",
          "250402",
          "236850",
          "207510",
          "201212",
          "187630",
          "157079",
          "148078",
          "144505",
          "140683",
          "130466",
          "122768",
          "99120",
          "81673",
          "80298",
          "79226",
          "77203",
          "72378",
          "69552",
          "66415",
          "65208",
          "64346",
          "64109",
          "63484",
          "54888",
          "52026",
          "50167",
          "48545",
          "46812",
          "46158",
          "45480",
          "44902",
          "40443",
          "39213",
          "37828",
          "36650",
          "35850",
          "35682",
          "34557",
          "33995",
          "32570",
          "32475",
          "32289",
          "30740",
          "30169",
          "29521",
          "28732",
          "27349",
          "27304",
          "26970",
          "25792",
          "25340",
          "24428",
          "24369",
          "22355",
          "22243",
          "21577",
          "20704",
          "20194",
          "18844",
          "18333",
          "18201",
          "17908",
          "17493",
          "17271",
          "17205",
          "16293",
          "14928",
          "14914",
          "14605",
          "14308",
          "14068",
          "13727",
          "13314",
          "13253",
          "12949",
          "11810",
          "11518",
          "11322",
          "10736",
          "10534",
          "10154",
          "8834",
          "8551",
          "8504",
          "7756",
          "6894",
          "6880",
          "6726",
          "6645",
          "6587",
          "6584",
          "6537",
          "6315",
          "6089",
          "6089",
          "5941",
          "5887",
          "5460",
          "5405",
          "5180",
          "4428",
          "4381",
          "4273",
          "4173",
          "4013",
          "3957",
          "3887",
          "3573",
          "3505",
          "3487",
          "2761",
          "2659",
          "2568",
          "2467",
          "2421",
          "2397",
          "2362",
          "2335",
          "2247",
          "2169",
          "2144",
          "2043",
          "2003",
          "1964",
          "1931",
          "1669",
          "1626",
          "1524",
          "1426",
          "1425",
          "1403",
          "1340",
          "1230",
          "1179",
          "1150",
          "1106",
          "1100",
          "1082",
          "1035",
          "999",
          "961",
          "955",
          "907",
          "903",
          "888",
          "878",
          "875",
          "866",
          "804",
          "802",
          "753",
          "750",
          "746",
          "730",
          "726",
          "703",
          "696",
          "679",
          "662",
          "634",
          "626",
          "610",
          "582",
          "573",
          "565",
          "558",
          "551",
          "551",
          "548",
          "542",
          "536",
          "508",
          "459",
          "455",
          "455",
          "440",
          "400",
          "394",
          "381",
          "377",
          "377",
          "376",
          "361",
          "360",
          "343",
          "340",
          "333",
          "330",
          "326",
          "318",
          "310",
          "304",
          "299",
          "282",
          "282",
          "276",
          "274",
          "268",
          "261",
          "259",
          "249",
          "248",
          "248",
          "242",
          "224",
          "224",
          "221",
          "220",
          "218",
          "214",
          "200",
          "200",
          "199",
          "194",
          "172",
          "152",
          "150",
          "148",
          "143",
          "132",
          "132",
          "121",
          "119",
          "115",
          "115",
          "114",
          "112",
          "112",
          "109",
          "107",
          "102",
          "94",
          "91",
          "90",
          "82",
          "82",
          "82",
          "80",
          "60",
          "1"
         ]
        }
       ],
       "layout": {
        "geo": {
         "projection": {
          "type": "mercator"
         },
         "showframe": false
        },
        "template": {
         "data": {
          "bar": [
           {
            "error_x": {
             "color": "#2a3f5f"
            },
            "error_y": {
             "color": "#2a3f5f"
            },
            "marker": {
             "line": {
              "color": "#E5ECF6",
              "width": 0.5
             }
            },
            "type": "bar"
           }
          ],
          "barpolar": [
           {
            "marker": {
             "line": {
              "color": "#E5ECF6",
              "width": 0.5
             }
            },
            "type": "barpolar"
           }
          ],
          "carpet": [
           {
            "aaxis": {
             "endlinecolor": "#2a3f5f",
             "gridcolor": "white",
             "linecolor": "white",
             "minorgridcolor": "white",
             "startlinecolor": "#2a3f5f"
            },
            "baxis": {
             "endlinecolor": "#2a3f5f",
             "gridcolor": "white",
             "linecolor": "white",
             "minorgridcolor": "white",
             "startlinecolor": "#2a3f5f"
            },
            "type": "carpet"
           }
          ],
          "choropleth": [
           {
            "colorbar": {
             "outlinewidth": 0,
             "ticks": ""
            },
            "type": "choropleth"
           }
          ],
          "contour": [
           {
            "colorbar": {
             "outlinewidth": 0,
             "ticks": ""
            },
            "colorscale": [
             [
              0,
              "#0d0887"
             ],
             [
              0.1111111111111111,
              "#46039f"
             ],
             [
              0.2222222222222222,
              "#7201a8"
             ],
             [
              0.3333333333333333,
              "#9c179e"
             ],
             [
              0.4444444444444444,
              "#bd3786"
             ],
             [
              0.5555555555555556,
              "#d8576b"
             ],
             [
              0.6666666666666666,
              "#ed7953"
             ],
             [
              0.7777777777777778,
              "#fb9f3a"
             ],
             [
              0.8888888888888888,
              "#fdca26"
             ],
             [
              1,
              "#f0f921"
             ]
            ],
            "type": "contour"
           }
          ],
          "contourcarpet": [
           {
            "colorbar": {
             "outlinewidth": 0,
             "ticks": ""
            },
            "type": "contourcarpet"
           }
          ],
          "heatmap": [
           {
            "colorbar": {
             "outlinewidth": 0,
             "ticks": ""
            },
            "colorscale": [
             [
              0,
              "#0d0887"
             ],
             [
              0.1111111111111111,
              "#46039f"
             ],
             [
              0.2222222222222222,
              "#7201a8"
             ],
             [
              0.3333333333333333,
              "#9c179e"
             ],
             [
              0.4444444444444444,
              "#bd3786"
             ],
             [
              0.5555555555555556,
              "#d8576b"
             ],
             [
              0.6666666666666666,
              "#ed7953"
             ],
             [
              0.7777777777777778,
              "#fb9f3a"
             ],
             [
              0.8888888888888888,
              "#fdca26"
             ],
             [
              1,
              "#f0f921"
             ]
            ],
            "type": "heatmap"
           }
          ],
          "heatmapgl": [
           {
            "colorbar": {
             "outlinewidth": 0,
             "ticks": ""
            },
            "colorscale": [
             [
              0,
              "#0d0887"
             ],
             [
              0.1111111111111111,
              "#46039f"
             ],
             [
              0.2222222222222222,
              "#7201a8"
             ],
             [
              0.3333333333333333,
              "#9c179e"
             ],
             [
              0.4444444444444444,
              "#bd3786"
             ],
             [
              0.5555555555555556,
              "#d8576b"
             ],
             [
              0.6666666666666666,
              "#ed7953"
             ],
             [
              0.7777777777777778,
              "#fb9f3a"
             ],
             [
              0.8888888888888888,
              "#fdca26"
             ],
             [
              1,
              "#f0f921"
             ]
            ],
            "type": "heatmapgl"
           }
          ],
          "histogram": [
           {
            "marker": {
             "colorbar": {
              "outlinewidth": 0,
              "ticks": ""
             }
            },
            "type": "histogram"
           }
          ],
          "histogram2d": [
           {
            "colorbar": {
             "outlinewidth": 0,
             "ticks": ""
            },
            "colorscale": [
             [
              0,
              "#0d0887"
             ],
             [
              0.1111111111111111,
              "#46039f"
             ],
             [
              0.2222222222222222,
              "#7201a8"
             ],
             [
              0.3333333333333333,
              "#9c179e"
             ],
             [
              0.4444444444444444,
              "#bd3786"
             ],
             [
              0.5555555555555556,
              "#d8576b"
             ],
             [
              0.6666666666666666,
              "#ed7953"
             ],
             [
              0.7777777777777778,
              "#fb9f3a"
             ],
             [
              0.8888888888888888,
              "#fdca26"
             ],
             [
              1,
              "#f0f921"
             ]
            ],
            "type": "histogram2d"
           }
          ],
          "histogram2dcontour": [
           {
            "colorbar": {
             "outlinewidth": 0,
             "ticks": ""
            },
            "colorscale": [
             [
              0,
              "#0d0887"
             ],
             [
              0.1111111111111111,
              "#46039f"
             ],
             [
              0.2222222222222222,
              "#7201a8"
             ],
             [
              0.3333333333333333,
              "#9c179e"
             ],
             [
              0.4444444444444444,
              "#bd3786"
             ],
             [
              0.5555555555555556,
              "#d8576b"
             ],
             [
              0.6666666666666666,
              "#ed7953"
             ],
             [
              0.7777777777777778,
              "#fb9f3a"
             ],
             [
              0.8888888888888888,
              "#fdca26"
             ],
             [
              1,
              "#f0f921"
             ]
            ],
            "type": "histogram2dcontour"
           }
          ],
          "mesh3d": [
           {
            "colorbar": {
             "outlinewidth": 0,
             "ticks": ""
            },
            "type": "mesh3d"
           }
          ],
          "parcoords": [
           {
            "line": {
             "colorbar": {
              "outlinewidth": 0,
              "ticks": ""
             }
            },
            "type": "parcoords"
           }
          ],
          "pie": [
           {
            "automargin": true,
            "type": "pie"
           }
          ],
          "scatter": [
           {
            "marker": {
             "colorbar": {
              "outlinewidth": 0,
              "ticks": ""
             }
            },
            "type": "scatter"
           }
          ],
          "scatter3d": [
           {
            "line": {
             "colorbar": {
              "outlinewidth": 0,
              "ticks": ""
             }
            },
            "marker": {
             "colorbar": {
              "outlinewidth": 0,
              "ticks": ""
             }
            },
            "type": "scatter3d"
           }
          ],
          "scattercarpet": [
           {
            "marker": {
             "colorbar": {
              "outlinewidth": 0,
              "ticks": ""
             }
            },
            "type": "scattercarpet"
           }
          ],
          "scattergeo": [
           {
            "marker": {
             "colorbar": {
              "outlinewidth": 0,
              "ticks": ""
             }
            },
            "type": "scattergeo"
           }
          ],
          "scattergl": [
           {
            "marker": {
             "colorbar": {
              "outlinewidth": 0,
              "ticks": ""
             }
            },
            "type": "scattergl"
           }
          ],
          "scattermapbox": [
           {
            "marker": {
             "colorbar": {
              "outlinewidth": 0,
              "ticks": ""
             }
            },
            "type": "scattermapbox"
           }
          ],
          "scatterpolar": [
           {
            "marker": {
             "colorbar": {
              "outlinewidth": 0,
              "ticks": ""
             }
            },
            "type": "scatterpolar"
           }
          ],
          "scatterpolargl": [
           {
            "marker": {
             "colorbar": {
              "outlinewidth": 0,
              "ticks": ""
             }
            },
            "type": "scatterpolargl"
           }
          ],
          "scatterternary": [
           {
            "marker": {
             "colorbar": {
              "outlinewidth": 0,
              "ticks": ""
             }
            },
            "type": "scatterternary"
           }
          ],
          "surface": [
           {
            "colorbar": {
             "outlinewidth": 0,
             "ticks": ""
            },
            "colorscale": [
             [
              0,
              "#0d0887"
             ],
             [
              0.1111111111111111,
              "#46039f"
             ],
             [
              0.2222222222222222,
              "#7201a8"
             ],
             [
              0.3333333333333333,
              "#9c179e"
             ],
             [
              0.4444444444444444,
              "#bd3786"
             ],
             [
              0.5555555555555556,
              "#d8576b"
             ],
             [
              0.6666666666666666,
              "#ed7953"
             ],
             [
              0.7777777777777778,
              "#fb9f3a"
             ],
             [
              0.8888888888888888,
              "#fdca26"
             ],
             [
              1,
              "#f0f921"
             ]
            ],
            "type": "surface"
           }
          ],
          "table": [
           {
            "cells": {
             "fill": {
              "color": "#EBF0F8"
             },
             "line": {
              "color": "white"
             }
            },
            "header": {
             "fill": {
              "color": "#C8D4E3"
             },
             "line": {
              "color": "white"
             }
            },
            "type": "table"
           }
          ]
         },
         "layout": {
          "annotationdefaults": {
           "arrowcolor": "#2a3f5f",
           "arrowhead": 0,
           "arrowwidth": 1
          },
          "autotypenumbers": "strict",
          "coloraxis": {
           "colorbar": {
            "outlinewidth": 0,
            "ticks": ""
           }
          },
          "colorscale": {
           "diverging": [
            [
             0,
             "#8e0152"
            ],
            [
             0.1,
             "#c51b7d"
            ],
            [
             0.2,
             "#de77ae"
            ],
            [
             0.3,
             "#f1b6da"
            ],
            [
             0.4,
             "#fde0ef"
            ],
            [
             0.5,
             "#f7f7f7"
            ],
            [
             0.6,
             "#e6f5d0"
            ],
            [
             0.7,
             "#b8e186"
            ],
            [
             0.8,
             "#7fbc41"
            ],
            [
             0.9,
             "#4d9221"
            ],
            [
             1,
             "#276419"
            ]
           ],
           "sequential": [
            [
             0,
             "#0d0887"
            ],
            [
             0.1111111111111111,
             "#46039f"
            ],
            [
             0.2222222222222222,
             "#7201a8"
            ],
            [
             0.3333333333333333,
             "#9c179e"
            ],
            [
             0.4444444444444444,
             "#bd3786"
            ],
            [
             0.5555555555555556,
             "#d8576b"
            ],
            [
             0.6666666666666666,
             "#ed7953"
            ],
            [
             0.7777777777777778,
             "#fb9f3a"
            ],
            [
             0.8888888888888888,
             "#fdca26"
            ],
            [
             1,
             "#f0f921"
            ]
           ],
           "sequentialminus": [
            [
             0,
             "#0d0887"
            ],
            [
             0.1111111111111111,
             "#46039f"
            ],
            [
             0.2222222222222222,
             "#7201a8"
            ],
            [
             0.3333333333333333,
             "#9c179e"
            ],
            [
             0.4444444444444444,
             "#bd3786"
            ],
            [
             0.5555555555555556,
             "#d8576b"
            ],
            [
             0.6666666666666666,
             "#ed7953"
            ],
            [
             0.7777777777777778,
             "#fb9f3a"
            ],
            [
             0.8888888888888888,
             "#fdca26"
            ],
            [
             1,
             "#f0f921"
            ]
           ]
          },
          "colorway": [
           "#636efa",
           "#EF553B",
           "#00cc96",
           "#ab63fa",
           "#FFA15A",
           "#19d3f3",
           "#FF6692",
           "#B6E880",
           "#FF97FF",
           "#FECB52"
          ],
          "font": {
           "color": "#2a3f5f"
          },
          "geo": {
           "bgcolor": "white",
           "lakecolor": "white",
           "landcolor": "#E5ECF6",
           "showlakes": true,
           "showland": true,
           "subunitcolor": "white"
          },
          "hoverlabel": {
           "align": "left"
          },
          "hovermode": "closest",
          "mapbox": {
           "style": "light"
          },
          "paper_bgcolor": "white",
          "plot_bgcolor": "#E5ECF6",
          "polar": {
           "angularaxis": {
            "gridcolor": "white",
            "linecolor": "white",
            "ticks": ""
           },
           "bgcolor": "#E5ECF6",
           "radialaxis": {
            "gridcolor": "white",
            "linecolor": "white",
            "ticks": ""
           }
          },
          "scene": {
           "xaxis": {
            "backgroundcolor": "#E5ECF6",
            "gridcolor": "white",
            "gridwidth": 2,
            "linecolor": "white",
            "showbackground": true,
            "ticks": "",
            "zerolinecolor": "white"
           },
           "yaxis": {
            "backgroundcolor": "#E5ECF6",
            "gridcolor": "white",
            "gridwidth": 2,
            "linecolor": "white",
            "showbackground": true,
            "ticks": "",
            "zerolinecolor": "white"
           },
           "zaxis": {
            "backgroundcolor": "#E5ECF6",
            "gridcolor": "white",
            "gridwidth": 2,
            "linecolor": "white",
            "showbackground": true,
            "ticks": "",
            "zerolinecolor": "white"
           }
          },
          "shapedefaults": {
           "line": {
            "color": "#2a3f5f"
           }
          },
          "ternary": {
           "aaxis": {
            "gridcolor": "white",
            "linecolor": "white",
            "ticks": ""
           },
           "baxis": {
            "gridcolor": "white",
            "linecolor": "white",
            "ticks": ""
           },
           "bgcolor": "#E5ECF6",
           "caxis": {
            "gridcolor": "white",
            "linecolor": "white",
            "ticks": ""
           }
          },
          "title": {
           "x": 0.05
          },
          "xaxis": {
           "automargin": true,
           "gridcolor": "white",
           "linecolor": "white",
           "ticks": "",
           "title": {
            "standoff": 15
           },
           "zerolinecolor": "white",
           "zerolinewidth": 2
          },
          "yaxis": {
           "automargin": true,
           "gridcolor": "white",
           "linecolor": "white",
           "ticks": "",
           "title": {
            "standoff": 15
           },
           "zerolinecolor": "white",
           "zerolinewidth": 2
          }
         }
        },
        "title": {
         "text": "Mars Tickets"
        }
       }
      },
      "text/html": [
       "<div>                            <div id=\"a98ec6d8-119f-4a3c-8c87-2707bea8cbb6\" class=\"plotly-graph-div\" style=\"height:525px; width:100%;\"></div>            <script type=\"text/javascript\">                require([\"plotly\"], function(Plotly) {                    window.PLOTLYENV=window.PLOTLYENV || {};                                    if (document.getElementById(\"a98ec6d8-119f-4a3c-8c87-2707bea8cbb6\")) {                    Plotly.newPlot(                        \"a98ec6d8-119f-4a3c-8c87-2707bea8cbb6\",                        [{\"colorbar\": {\"title\": {\"text\": \"Mars Tickets\"}}, \"colorscale\": [[0.0, \"#440154\"], [0.1111111111111111, \"#482878\"], [0.2222222222222222, \"#3e4989\"], [0.3333333333333333, \"#31688e\"], [0.4444444444444444, \"#26828e\"], [0.5555555555555556, \"#1f9e89\"], [0.6666666666666666, \"#35b779\"], [0.7777777777777778, \"#6ece58\"], [0.8888888888888888, \"#b5de2b\"], [1.0, \"#fde725\"]], \"locationmode\": \"country names\", \"locations\": [\"CHINA\", \"UNITED STATES\", \"PHILIPPINES\", \"UNITED KINGDOM\", \"RUSSIA\", \"ITALY\", \"BRAZIL\", \"MEXICO\", \"FRANCE\", \"INDIA\", \"INDONESIA\", \"SPAIN\", \"UKRAINE\", \"CANADA\", \"MALAYSIA\", \"SOUTH KOREA\", \"GERMANY\", \"AUSTRALIA\", \"KAZAKHSTAN\", \"PERU\", \"POLAND\", \"COLOMBIA\", \"TURKEY\", \"ARGENTINA\", \"CHILE\", \"CZECHIA\", \"ECUADOR\", \"TAIWAN\", \"IRELAND\", \"IRAN\", \"VIETNAM\", \"HONG KONG SAR CHINA\", \"THAILAND\", \"SWEDEN\", \"ROMANIA\", \"PORTUGAL\", \"BELARUS\", \"BELGIUM\", \"BANGLADESH\", \"GREECE\", \"AFGHANISTAN\", \"NETHERLANDS\", \"SOUTH AFRICA\", \"EGYPT\", \"HUNGARY\", \"ALBANIA\", \"ALGERIA\", \"COSTA RICA\", \"SAUDI ARABIA\", \"AUSTRIA\", \"ARMENIA\", \"UNITED ARAB EMIRATES\", \"UZBEKISTAN\", \"JAPAN\", \"SLOVAKIA\", \"NEW ZEALAND\", \"ISRAEL\", \"SWITZERLAND\", \"SINGAPORE\", \"AZERBAIJAN\", \"SERBIA\", \"BOLIVIA\", \"AMERICAN SAMOA\", \"VENEZUELA\", \"CROATIA\", \"GUATEMALA\", \"NORWAY\", \"ANDORRA\", \"KYRGYZSTAN\", \"IRAQ\", \"DENMARK\", \"MOROCCO\", \"MOLDOVA\", \"PAKISTAN\", \"FINLAND\", \"PUERTO RICO\", \"BULGARIA\", \"LITHUANIA\", \"LEBANON\", \"EL SALVADOR\", \"HONDURAS\", \"GEORGIA\", \"BOSNIA & HERZEGOVINA\", \"PANAMA\", \"LATVIA\", \"DOMINICAN REPUBLIC\", \"ANGOLA\", \"NEPAL\", \"JORDAN\", \"SRI LANKA\", \"TUNISIA\", \"URUGUAY\", \"TRINIDAD & TOBAGO\", \"PARAGUAY\", \"ESTONIA\", \"ANGUILLA\", \"MYANMAR (BURMA)\", \"ANTARCTICA\", \"SLOVENIA\", \"BAHRAIN\", \"NICARAGUA\", \"CYPRUS\", \"NORTH KOREA\", \"KUWAIT\", \"NORTH MACEDONIA\", \"ARUBA\", \"BAHAMAS\", \"KOSOVO\", \"MACAO SAR CHINA\", \"ASCENSION ISLAND\", \"CANARY ISLANDS\", \"ANTIGUA & BARBUDA\", \"SYRIA\", \"QATAR\", \"CAMBODIA\", \"MALTA\", \"NIGERIA\", \"GUYANA\", \"MALDIVES\", \"OMAN\", \"BRUNEI\", \"PALESTINIAN TERRITORIES\", \"KENYA\", \"MONTENEGRO\", \"MAURITIUS\", \"CHRISTMAS ISLAND\", \"LUXEMBOURG\", \"BELIZE\", \"ICELAND\", \"ZIMBABWE\", \"CUBA\", \"MONGOLIA\", \"YEMEN\", \"LIBYA\", \"R\\u00c9UNION\", \"GHANA\", \"JAMAICA\", \"BRITISH VIRGIN ISLANDS\", \"SUDAN\", \"BARBADOS\", \"BHUTAN\", \"TAJIKISTAN\", \"TURKMENISTAN\", \"ETHIOPIA\", \"GUAM\", \"BERMUDA\", \"FRENCH POLYNESIA\", \"FIJI\", \"BOTSWANA\", \"CHAD\", \"BRITISH INDIAN OCEAN TERRITORY\", \"ISLE OF MAN\", \"JERSEY\", \"MADAGASCAR\", \"CARIBBEAN NETHERLANDS\", \"BENIN\", \"SURINAME\", \"CAPE VERDE\", \"CAMEROON\", \"ZAMBIA\", \"CAYMAN ISLANDS\", \"CEUTA & MELILLA\", \"NIGER\", \"UGANDA\", \"CENTRAL AFRICAN REPUBLIC\", \"BURUNDI\", \"C\\u00d4TE D\\u2019IVOIRE\", \"GUERNSEY\", \"GUADELOUPE\", \"MONACO\", \"GIBRALTAR\", \"FRENCH GUIANA\", \"DOMINICA\", \"BURKINA FASO\", \"TANZANIA\", \"LAOS\", \"MOZAMBIQUE\", \"U.S. VIRGIN ISLANDS\", \"NORTHERN MARIANA ISLANDS\", \"SENEGAL\", \"FRENCH SOUTHERN TERRITORIES\", \"CURA\\u00c7AO\", \"MARTINIQUE\", \"COCOS (KEELING) ISLANDS\", \"NEW CALEDONIA\", \"NAMIBIA\", \"VATICAN CITY\", \"SOMALIA\", \"GREENLAND\", \"CONGO - KINSHASA\", \"HAITI\", \"RWANDA\", \"PITCAIRN ISLANDS\", \"SOUTH SUDAN\", \"EQUATORIAL GUINEA\", \"COMOROS\", \"CONGO - BRAZZAVILLE\", \"COOK ISLANDS\", \"GABON\", \"SAN MARINO\", \"GRENADA\", \"MALI\", \"ERITREA\", \"MALAWI\", \"MARSHALL ISLANDS\", \"DJIBOUTI\", \"SAMOA\", \"ESWATINI\", \"DIEGO GARCIA\", \"MAURITANIA\", \"FAROE ISLANDS\", \"PAPUA NEW GUINEA\", \"U.S. OUTLYING ISLANDS\", \"LIECHTENSTEIN\", \"VANUATU\", \"MAYOTTE\", \"WALLIS & FUTUNA\", \"SINT MAARTEN\", \"GUINEA\", \"GAMBIA\", \"LIBERIA\", \"TOGO\", \"PALAU\", \"MICRONESIA\", \"TURKS & CAICOS ISLANDS\", \"ST. MARTIN\", \"ST. LUCIA\", \"FALKLAND ISLANDS\", \"WESTERN SAHARA\", \"SOUTH GEORGIA & SOUTH SANDWICH ISLANDS\", \"SIERRA LEONE\", \"SEYCHELLES\", \"TIMOR-LESTE\", \"ST. VINCENT & GRENADINES\", \"MONTSERRAT\", \"LESOTHO\", \"TONGA\", \"ST. PIERRE & MIQUELON\", \"ST. KITTS & NEVIS\", \"S\\u00c3O TOM\\u00c9 & PR\\u00cdNCIPE\", \"KIRIBATI\", \"\\u00c5LAND ISLANDS\", \"GUINEA-BISSAU\", \"SOLOMON ISLANDS\", \"TUVALU\", \"ST. HELENA\", \"ST. BARTH\\u00c9LEMY\", \"NORFOLK ISLAND\", \"TOKELAU\", \"SVALBARD & JAN MAYEN\", \"NAURU\", \"NIUE\", \"TRISTAN DA CUNHA\", \"PSEUDO-BIDI\"], \"reversescale\": true, \"text\": [\"CHINA\", \"UNITED STATES\", \"PHILIPPINES\", \"UNITED KINGDOM\", \"RUSSIA\", \"ITALY\", \"BRAZIL\", \"MEXICO\", \"FRANCE\", \"INDIA\", \"INDONESIA\", \"SPAIN\", \"UKRAINE\", \"CANADA\", \"MALAYSIA\", \"SOUTH KOREA\", \"GERMANY\", \"AUSTRALIA\", \"KAZAKHSTAN\", \"PERU\", \"POLAND\", \"COLOMBIA\", \"TURKEY\", \"ARGENTINA\", \"CHILE\", \"CZECHIA\", \"ECUADOR\", \"TAIWAN\", \"IRELAND\", \"IRAN\", \"VIETNAM\", \"HONG KONG SAR CHINA\", \"THAILAND\", \"SWEDEN\", \"ROMANIA\", \"PORTUGAL\", \"BELARUS\", \"BELGIUM\", \"BANGLADESH\", \"GREECE\", \"AFGHANISTAN\", \"NETHERLANDS\", \"SOUTH AFRICA\", \"EGYPT\", \"HUNGARY\", \"ALBANIA\", \"ALGERIA\", \"COSTA RICA\", \"SAUDI ARABIA\", \"AUSTRIA\", \"ARMENIA\", \"UNITED ARAB EMIRATES\", \"UZBEKISTAN\", \"JAPAN\", \"SLOVAKIA\", \"NEW ZEALAND\", \"ISRAEL\", \"SWITZERLAND\", \"SINGAPORE\", \"AZERBAIJAN\", \"SERBIA\", \"BOLIVIA\", \"AMERICAN SAMOA\", \"VENEZUELA\", \"CROATIA\", \"GUATEMALA\", \"NORWAY\", \"ANDORRA\", \"KYRGYZSTAN\", \"IRAQ\", \"DENMARK\", \"MOROCCO\", \"MOLDOVA\", \"PAKISTAN\", \"FINLAND\", \"PUERTO RICO\", \"BULGARIA\", \"LITHUANIA\", \"LEBANON\", \"EL SALVADOR\", \"HONDURAS\", \"GEORGIA\", \"BOSNIA & HERZEGOVINA\", \"PANAMA\", \"LATVIA\", \"DOMINICAN REPUBLIC\", \"ANGOLA\", \"NEPAL\", \"JORDAN\", \"SRI LANKA\", \"TUNISIA\", \"URUGUAY\", \"TRINIDAD & TOBAGO\", \"PARAGUAY\", \"ESTONIA\", \"ANGUILLA\", \"MYANMAR (BURMA)\", \"ANTARCTICA\", \"SLOVENIA\", \"BAHRAIN\", \"NICARAGUA\", \"CYPRUS\", \"NORTH KOREA\", \"KUWAIT\", \"NORTH MACEDONIA\", \"ARUBA\", \"BAHAMAS\", \"KOSOVO\", \"MACAO SAR CHINA\", \"ASCENSION ISLAND\", \"CANARY ISLANDS\", \"ANTIGUA & BARBUDA\", \"SYRIA\", \"QATAR\", \"CAMBODIA\", \"MALTA\", \"NIGERIA\", \"GUYANA\", \"MALDIVES\", \"OMAN\", \"BRUNEI\", \"PALESTINIAN TERRITORIES\", \"KENYA\", \"MONTENEGRO\", \"MAURITIUS\", \"CHRISTMAS ISLAND\", \"LUXEMBOURG\", \"BELIZE\", \"ICELAND\", \"ZIMBABWE\", \"CUBA\", \"MONGOLIA\", \"YEMEN\", \"LIBYA\", \"R\\u00c9UNION\", \"GHANA\", \"JAMAICA\", \"BRITISH VIRGIN ISLANDS\", \"SUDAN\", \"BARBADOS\", \"BHUTAN\", \"TAJIKISTAN\", \"TURKMENISTAN\", \"ETHIOPIA\", \"GUAM\", \"BERMUDA\", \"FRENCH POLYNESIA\", \"FIJI\", \"BOTSWANA\", \"CHAD\", \"BRITISH INDIAN OCEAN TERRITORY\", \"ISLE OF MAN\", \"JERSEY\", \"MADAGASCAR\", \"CARIBBEAN NETHERLANDS\", \"BENIN\", \"SURINAME\", \"CAPE VERDE\", \"CAMEROON\", \"ZAMBIA\", \"CAYMAN ISLANDS\", \"CEUTA & MELILLA\", \"NIGER\", \"UGANDA\", \"CENTRAL AFRICAN REPUBLIC\", \"BURUNDI\", \"C\\u00d4TE D\\u2019IVOIRE\", \"GUERNSEY\", \"GUADELOUPE\", \"MONACO\", \"GIBRALTAR\", \"FRENCH GUIANA\", \"DOMINICA\", \"BURKINA FASO\", \"TANZANIA\", \"LAOS\", \"MOZAMBIQUE\", \"U.S. VIRGIN ISLANDS\", \"NORTHERN MARIANA ISLANDS\", \"SENEGAL\", \"FRENCH SOUTHERN TERRITORIES\", \"CURA\\u00c7AO\", \"MARTINIQUE\", \"COCOS (KEELING) ISLANDS\", \"NEW CALEDONIA\", \"NAMIBIA\", \"VATICAN CITY\", \"SOMALIA\", \"GREENLAND\", \"CONGO - KINSHASA\", \"HAITI\", \"RWANDA\", \"PITCAIRN ISLANDS\", \"SOUTH SUDAN\", \"EQUATORIAL GUINEA\", \"COMOROS\", \"CONGO - BRAZZAVILLE\", \"COOK ISLANDS\", \"GABON\", \"SAN MARINO\", \"GRENADA\", \"MALI\", \"ERITREA\", \"MALAWI\", \"MARSHALL ISLANDS\", \"DJIBOUTI\", \"SAMOA\", \"ESWATINI\", \"DIEGO GARCIA\", \"MAURITANIA\", \"FAROE ISLANDS\", \"PAPUA NEW GUINEA\", \"U.S. OUTLYING ISLANDS\", \"LIECHTENSTEIN\", \"VANUATU\", \"MAYOTTE\", \"WALLIS & FUTUNA\", \"SINT MAARTEN\", \"GUINEA\", \"GAMBIA\", \"LIBERIA\", \"TOGO\", \"PALAU\", \"MICRONESIA\", \"TURKS & CAICOS ISLANDS\", \"ST. MARTIN\", \"ST. LUCIA\", \"FALKLAND ISLANDS\", \"WESTERN SAHARA\", \"SOUTH GEORGIA & SOUTH SANDWICH ISLANDS\", \"SIERRA LEONE\", \"SEYCHELLES\", \"TIMOR-LESTE\", \"ST. VINCENT & GRENADINES\", \"MONTSERRAT\", \"LESOTHO\", \"TONGA\", \"ST. PIERRE & MIQUELON\", \"ST. KITTS & NEVIS\", \"S\\u00c3O TOM\\u00c9 & PR\\u00cdNCIPE\", \"KIRIBATI\", \"\\u00c5LAND ISLANDS\", \"GUINEA-BISSAU\", \"SOLOMON ISLANDS\", \"TUVALU\", \"ST. HELENA\", \"ST. BARTH\\u00c9LEMY\", \"NORFOLK ISLAND\", \"TOKELAU\", \"SVALBARD & JAN MAYEN\", \"NAURU\", \"NIUE\", \"TRISTAN DA CUNHA\", \"PSEUDO-BIDI\"], \"type\": \"choropleth\", \"z\": [\"4056767\", \"2699594\", \"2213476\", \"1060166\", \"730911\", \"691842\", \"682165\", \"531393\", \"336963\", \"328236\", \"308512\", \"267428\", \"259108\", \"252897\", \"250402\", \"236850\", \"207510\", \"201212\", \"187630\", \"157079\", \"148078\", \"144505\", \"140683\", \"130466\", \"122768\", \"99120\", \"81673\", \"80298\", \"79226\", \"77203\", \"72378\", \"69552\", \"66415\", \"65208\", \"64346\", \"64109\", \"63484\", \"54888\", \"52026\", \"50167\", \"48545\", \"46812\", \"46158\", \"45480\", \"44902\", \"40443\", \"39213\", \"37828\", \"36650\", \"35850\", \"35682\", \"34557\", \"33995\", \"32570\", \"32475\", \"32289\", \"30740\", \"30169\", \"29521\", \"28732\", \"27349\", \"27304\", \"26970\", \"25792\", \"25340\", \"24428\", \"24369\", \"22355\", \"22243\", \"21577\", \"20704\", \"20194\", \"18844\", \"18333\", \"18201\", \"17908\", \"17493\", \"17271\", \"17205\", \"16293\", \"14928\", \"14914\", \"14605\", \"14308\", \"14068\", \"13727\", \"13314\", \"13253\", \"12949\", \"11810\", \"11518\", \"11322\", \"10736\", \"10534\", \"10154\", \"8834\", \"8551\", \"8504\", \"7756\", \"6894\", \"6880\", \"6726\", \"6645\", \"6587\", \"6584\", \"6537\", \"6315\", \"6089\", \"6089\", \"5941\", \"5887\", \"5460\", \"5405\", \"5180\", \"4428\", \"4381\", \"4273\", \"4173\", \"4013\", \"3957\", \"3887\", \"3573\", \"3505\", \"3487\", \"2761\", \"2659\", \"2568\", \"2467\", \"2421\", \"2397\", \"2362\", \"2335\", \"2247\", \"2169\", \"2144\", \"2043\", \"2003\", \"1964\", \"1931\", \"1669\", \"1626\", \"1524\", \"1426\", \"1425\", \"1403\", \"1340\", \"1230\", \"1179\", \"1150\", \"1106\", \"1100\", \"1082\", \"1035\", \"999\", \"961\", \"955\", \"907\", \"903\", \"888\", \"878\", \"875\", \"866\", \"804\", \"802\", \"753\", \"750\", \"746\", \"730\", \"726\", \"703\", \"696\", \"679\", \"662\", \"634\", \"626\", \"610\", \"582\", \"573\", \"565\", \"558\", \"551\", \"551\", \"548\", \"542\", \"536\", \"508\", \"459\", \"455\", \"455\", \"440\", \"400\", \"394\", \"381\", \"377\", \"377\", \"376\", \"361\", \"360\", \"343\", \"340\", \"333\", \"330\", \"326\", \"318\", \"310\", \"304\", \"299\", \"282\", \"282\", \"276\", \"274\", \"268\", \"261\", \"259\", \"249\", \"248\", \"248\", \"242\", \"224\", \"224\", \"221\", \"220\", \"218\", \"214\", \"200\", \"200\", \"199\", \"194\", \"172\", \"152\", \"150\", \"148\", \"143\", \"132\", \"132\", \"121\", \"119\", \"115\", \"115\", \"114\", \"112\", \"112\", \"109\", \"107\", \"102\", \"94\", \"91\", \"90\", \"82\", \"82\", \"82\", \"80\", \"60\", \"1\"]}],                        {\"geo\": {\"projection\": {\"type\": \"mercator\"}, \"showframe\": false}, \"template\": {\"data\": {\"bar\": [{\"error_x\": {\"color\": \"#2a3f5f\"}, \"error_y\": {\"color\": \"#2a3f5f\"}, \"marker\": {\"line\": {\"color\": \"#E5ECF6\", \"width\": 0.5}}, \"type\": \"bar\"}], \"barpolar\": [{\"marker\": {\"line\": {\"color\": \"#E5ECF6\", \"width\": 0.5}}, \"type\": \"barpolar\"}], \"carpet\": [{\"aaxis\": {\"endlinecolor\": \"#2a3f5f\", \"gridcolor\": \"white\", \"linecolor\": \"white\", \"minorgridcolor\": \"white\", \"startlinecolor\": \"#2a3f5f\"}, \"baxis\": {\"endlinecolor\": \"#2a3f5f\", \"gridcolor\": \"white\", \"linecolor\": \"white\", \"minorgridcolor\": \"white\", \"startlinecolor\": \"#2a3f5f\"}, \"type\": \"carpet\"}], \"choropleth\": [{\"colorbar\": {\"outlinewidth\": 0, \"ticks\": \"\"}, \"type\": \"choropleth\"}], \"contour\": [{\"colorbar\": {\"outlinewidth\": 0, \"ticks\": \"\"}, \"colorscale\": [[0.0, \"#0d0887\"], [0.1111111111111111, \"#46039f\"], [0.2222222222222222, \"#7201a8\"], [0.3333333333333333, \"#9c179e\"], [0.4444444444444444, \"#bd3786\"], [0.5555555555555556, \"#d8576b\"], [0.6666666666666666, \"#ed7953\"], [0.7777777777777778, \"#fb9f3a\"], [0.8888888888888888, \"#fdca26\"], [1.0, \"#f0f921\"]], \"type\": \"contour\"}], \"contourcarpet\": [{\"colorbar\": {\"outlinewidth\": 0, \"ticks\": \"\"}, \"type\": \"contourcarpet\"}], \"heatmap\": [{\"colorbar\": {\"outlinewidth\": 0, \"ticks\": \"\"}, \"colorscale\": [[0.0, \"#0d0887\"], [0.1111111111111111, \"#46039f\"], [0.2222222222222222, \"#7201a8\"], [0.3333333333333333, \"#9c179e\"], [0.4444444444444444, \"#bd3786\"], [0.5555555555555556, \"#d8576b\"], [0.6666666666666666, \"#ed7953\"], [0.7777777777777778, \"#fb9f3a\"], [0.8888888888888888, \"#fdca26\"], [1.0, \"#f0f921\"]], \"type\": \"heatmap\"}], \"heatmapgl\": [{\"colorbar\": {\"outlinewidth\": 0, \"ticks\": \"\"}, \"colorscale\": [[0.0, \"#0d0887\"], [0.1111111111111111, \"#46039f\"], [0.2222222222222222, \"#7201a8\"], [0.3333333333333333, \"#9c179e\"], [0.4444444444444444, \"#bd3786\"], [0.5555555555555556, \"#d8576b\"], [0.6666666666666666, \"#ed7953\"], [0.7777777777777778, \"#fb9f3a\"], [0.8888888888888888, \"#fdca26\"], [1.0, \"#f0f921\"]], \"type\": \"heatmapgl\"}], \"histogram\": [{\"marker\": {\"colorbar\": {\"outlinewidth\": 0, \"ticks\": \"\"}}, \"type\": \"histogram\"}], \"histogram2d\": [{\"colorbar\": {\"outlinewidth\": 0, \"ticks\": \"\"}, \"colorscale\": [[0.0, \"#0d0887\"], [0.1111111111111111, \"#46039f\"], [0.2222222222222222, \"#7201a8\"], [0.3333333333333333, \"#9c179e\"], [0.4444444444444444, \"#bd3786\"], [0.5555555555555556, \"#d8576b\"], [0.6666666666666666, \"#ed7953\"], [0.7777777777777778, \"#fb9f3a\"], [0.8888888888888888, \"#fdca26\"], [1.0, \"#f0f921\"]], \"type\": \"histogram2d\"}], \"histogram2dcontour\": [{\"colorbar\": {\"outlinewidth\": 0, \"ticks\": \"\"}, \"colorscale\": [[0.0, \"#0d0887\"], [0.1111111111111111, \"#46039f\"], [0.2222222222222222, \"#7201a8\"], [0.3333333333333333, \"#9c179e\"], [0.4444444444444444, \"#bd3786\"], [0.5555555555555556, \"#d8576b\"], [0.6666666666666666, \"#ed7953\"], [0.7777777777777778, \"#fb9f3a\"], [0.8888888888888888, \"#fdca26\"], [1.0, \"#f0f921\"]], \"type\": \"histogram2dcontour\"}], \"mesh3d\": [{\"colorbar\": {\"outlinewidth\": 0, \"ticks\": \"\"}, \"type\": \"mesh3d\"}], \"parcoords\": [{\"line\": {\"colorbar\": {\"outlinewidth\": 0, \"ticks\": \"\"}}, \"type\": \"parcoords\"}], \"pie\": [{\"automargin\": true, \"type\": \"pie\"}], \"scatter\": [{\"marker\": {\"colorbar\": {\"outlinewidth\": 0, \"ticks\": \"\"}}, \"type\": \"scatter\"}], \"scatter3d\": [{\"line\": {\"colorbar\": {\"outlinewidth\": 0, \"ticks\": \"\"}}, \"marker\": {\"colorbar\": {\"outlinewidth\": 0, \"ticks\": \"\"}}, \"type\": \"scatter3d\"}], \"scattercarpet\": [{\"marker\": {\"colorbar\": {\"outlinewidth\": 0, \"ticks\": \"\"}}, \"type\": \"scattercarpet\"}], \"scattergeo\": [{\"marker\": {\"colorbar\": {\"outlinewidth\": 0, \"ticks\": \"\"}}, \"type\": \"scattergeo\"}], \"scattergl\": [{\"marker\": {\"colorbar\": {\"outlinewidth\": 0, \"ticks\": \"\"}}, \"type\": \"scattergl\"}], \"scattermapbox\": [{\"marker\": {\"colorbar\": {\"outlinewidth\": 0, \"ticks\": \"\"}}, \"type\": \"scattermapbox\"}], \"scatterpolar\": [{\"marker\": {\"colorbar\": {\"outlinewidth\": 0, \"ticks\": \"\"}}, \"type\": \"scatterpolar\"}], \"scatterpolargl\": [{\"marker\": {\"colorbar\": {\"outlinewidth\": 0, \"ticks\": \"\"}}, \"type\": \"scatterpolargl\"}], \"scatterternary\": [{\"marker\": {\"colorbar\": {\"outlinewidth\": 0, \"ticks\": \"\"}}, \"type\": \"scatterternary\"}], \"surface\": [{\"colorbar\": {\"outlinewidth\": 0, \"ticks\": \"\"}, \"colorscale\": [[0.0, \"#0d0887\"], [0.1111111111111111, \"#46039f\"], [0.2222222222222222, \"#7201a8\"], [0.3333333333333333, \"#9c179e\"], [0.4444444444444444, \"#bd3786\"], [0.5555555555555556, \"#d8576b\"], [0.6666666666666666, \"#ed7953\"], [0.7777777777777778, \"#fb9f3a\"], [0.8888888888888888, \"#fdca26\"], [1.0, \"#f0f921\"]], \"type\": \"surface\"}], \"table\": [{\"cells\": {\"fill\": {\"color\": \"#EBF0F8\"}, \"line\": {\"color\": \"white\"}}, \"header\": {\"fill\": {\"color\": \"#C8D4E3\"}, \"line\": {\"color\": \"white\"}}, \"type\": \"table\"}]}, \"layout\": {\"annotationdefaults\": {\"arrowcolor\": \"#2a3f5f\", \"arrowhead\": 0, \"arrowwidth\": 1}, \"autotypenumbers\": \"strict\", \"coloraxis\": {\"colorbar\": {\"outlinewidth\": 0, \"ticks\": \"\"}}, \"colorscale\": {\"diverging\": [[0, \"#8e0152\"], [0.1, \"#c51b7d\"], [0.2, \"#de77ae\"], [0.3, \"#f1b6da\"], [0.4, \"#fde0ef\"], [0.5, \"#f7f7f7\"], [0.6, \"#e6f5d0\"], [0.7, \"#b8e186\"], [0.8, \"#7fbc41\"], [0.9, \"#4d9221\"], [1, \"#276419\"]], \"sequential\": [[0.0, \"#0d0887\"], [0.1111111111111111, \"#46039f\"], [0.2222222222222222, \"#7201a8\"], [0.3333333333333333, \"#9c179e\"], [0.4444444444444444, \"#bd3786\"], [0.5555555555555556, \"#d8576b\"], [0.6666666666666666, \"#ed7953\"], [0.7777777777777778, \"#fb9f3a\"], [0.8888888888888888, \"#fdca26\"], [1.0, \"#f0f921\"]], \"sequentialminus\": [[0.0, \"#0d0887\"], [0.1111111111111111, \"#46039f\"], [0.2222222222222222, \"#7201a8\"], [0.3333333333333333, \"#9c179e\"], [0.4444444444444444, \"#bd3786\"], [0.5555555555555556, \"#d8576b\"], [0.6666666666666666, \"#ed7953\"], [0.7777777777777778, \"#fb9f3a\"], [0.8888888888888888, \"#fdca26\"], [1.0, \"#f0f921\"]]}, \"colorway\": [\"#636efa\", \"#EF553B\", \"#00cc96\", \"#ab63fa\", \"#FFA15A\", \"#19d3f3\", \"#FF6692\", \"#B6E880\", \"#FF97FF\", \"#FECB52\"], \"font\": {\"color\": \"#2a3f5f\"}, \"geo\": {\"bgcolor\": \"white\", \"lakecolor\": \"white\", \"landcolor\": \"#E5ECF6\", \"showlakes\": true, \"showland\": true, \"subunitcolor\": \"white\"}, \"hoverlabel\": {\"align\": \"left\"}, \"hovermode\": \"closest\", \"mapbox\": {\"style\": \"light\"}, \"paper_bgcolor\": \"white\", \"plot_bgcolor\": \"#E5ECF6\", \"polar\": {\"angularaxis\": {\"gridcolor\": \"white\", \"linecolor\": \"white\", \"ticks\": \"\"}, \"bgcolor\": \"#E5ECF6\", \"radialaxis\": {\"gridcolor\": \"white\", \"linecolor\": \"white\", \"ticks\": \"\"}}, \"scene\": {\"xaxis\": {\"backgroundcolor\": \"#E5ECF6\", \"gridcolor\": \"white\", \"gridwidth\": 2, \"linecolor\": \"white\", \"showbackground\": true, \"ticks\": \"\", \"zerolinecolor\": \"white\"}, \"yaxis\": {\"backgroundcolor\": \"#E5ECF6\", \"gridcolor\": \"white\", \"gridwidth\": 2, \"linecolor\": \"white\", \"showbackground\": true, \"ticks\": \"\", \"zerolinecolor\": \"white\"}, \"zaxis\": {\"backgroundcolor\": \"#E5ECF6\", \"gridcolor\": \"white\", \"gridwidth\": 2, \"linecolor\": \"white\", \"showbackground\": true, \"ticks\": \"\", \"zerolinecolor\": \"white\"}}, \"shapedefaults\": {\"line\": {\"color\": \"#2a3f5f\"}}, \"ternary\": {\"aaxis\": {\"gridcolor\": \"white\", \"linecolor\": \"white\", \"ticks\": \"\"}, \"baxis\": {\"gridcolor\": \"white\", \"linecolor\": \"white\", \"ticks\": \"\"}, \"bgcolor\": \"#E5ECF6\", \"caxis\": {\"gridcolor\": \"white\", \"linecolor\": \"white\", \"ticks\": \"\"}}, \"title\": {\"x\": 0.05}, \"xaxis\": {\"automargin\": true, \"gridcolor\": \"white\", \"linecolor\": \"white\", \"ticks\": \"\", \"title\": {\"standoff\": 15}, \"zerolinecolor\": \"white\", \"zerolinewidth\": 2}, \"yaxis\": {\"automargin\": true, \"gridcolor\": \"white\", \"linecolor\": \"white\", \"ticks\": \"\", \"title\": {\"standoff\": 15}, \"zerolinecolor\": \"white\", \"zerolinewidth\": 2}}}, \"title\": {\"text\": \"Mars Tickets\"}},                        {\"responsive\": true}                    ).then(function(){\n",
       "                            \n",
       "var gd = document.getElementById('a98ec6d8-119f-4a3c-8c87-2707bea8cbb6');\n",
       "var x = new MutationObserver(function (mutations, observer) {{\n",
       "        var display = window.getComputedStyle(gd).display;\n",
       "        if (!display || display === 'none') {{\n",
       "            console.log([gd, 'removed!']);\n",
       "            Plotly.purge(gd);\n",
       "            observer.disconnect();\n",
       "        }}\n",
       "}});\n",
       "\n",
       "// Listen for the removal of the full notebook cells\n",
       "var notebookContainer = gd.closest('#notebook-container');\n",
       "if (notebookContainer) {{\n",
       "    x.observe(notebookContainer, {childList: true});\n",
       "}}\n",
       "\n",
       "// Listen for the clearing of the current output cell\n",
       "var outputEl = gd.closest('.output');\n",
       "if (outputEl) {{\n",
       "    x.observe(outputEl, {childList: true});\n",
       "}}\n",
       "\n",
       "                        })                };                });            </script>        </div>"
      ]
     },
     "metadata": {},
     "output_type": "display_data"
    }
   ],
   "source": [
    "choromap=go.Figure(data=[data2],layout=layout)\n",
    "iplot(choromap,validate=False)"
   ]
  },
  {
   "cell_type": "code",
   "execution_count": null,
   "metadata": {},
   "outputs": [],
   "source": []
  }
 ],
 "metadata": {
  "kernelspec": {
   "display_name": "Python 3",
   "language": "python",
   "name": "python3"
  },
  "language_info": {
   "codemirror_mode": {
    "name": "ipython",
    "version": 3
   },
   "file_extension": ".py",
   "mimetype": "text/x-python",
   "name": "python",
   "nbconvert_exporter": "python",
   "pygments_lexer": "ipython3",
   "version": "3.8.5"
  }
 },
 "nbformat": 4,
 "nbformat_minor": 4
}
